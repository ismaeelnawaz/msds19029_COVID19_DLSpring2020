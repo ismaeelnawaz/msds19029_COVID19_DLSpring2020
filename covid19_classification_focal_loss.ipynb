{
  "nbformat": 4,
  "nbformat_minor": 0,
  "metadata": {
    "colab": {
      "name": "MSDS19029_05_part2.ipynb",
      "provenance": [],
      "collapsed_sections": []
    },
    "kernelspec": {
      "name": "python3",
      "display_name": "Python 3"
    },
    "accelerator": "GPU"
  },
  "cells": [
    {
      "cell_type": "markdown",
      "metadata": {
        "id": "icuhB4GS3B3s",
        "colab_type": "text"
      },
      "source": [
        "# Load and Extract Dataset"
      ]
    },
    {
      "cell_type": "code",
      "metadata": {
        "id": "YoY51A9Q3FzQ",
        "colab_type": "code",
        "colab": {
          "base_uri": "https://localhost:8080/",
          "height": 34
        },
        "outputId": "c2b1f69d-3dcd-41b8-c33f-14efd4ebc696"
      },
      "source": [
        "from google.colab import drive\n",
        "import os\n",
        "import zipfile\n",
        "drive.mount('/content/gdrive')\n",
        "# zip_ref = zipfile.ZipFile(\"/content/gdrive/My Drive/Copy of A_05_Part_02_Dataset.zip\", 'r')\n",
        "# zip_ref.extractall(\"/content/gdrive/My Drive/Data\")\n",
        "# zip_ref.close()\n",
        "os.chdir(\"/content/gdrive/My Drive/Data/A_05_Part_02_Dataset\")"
      ],
      "execution_count": 3,
      "outputs": [
        {
          "output_type": "stream",
          "text": [
            "Drive already mounted at /content/gdrive; to attempt to forcibly remount, call drive.mount(\"/content/gdrive\", force_remount=True).\n"
          ],
          "name": "stdout"
        }
      ]
    },
    {
      "cell_type": "markdown",
      "metadata": {
        "id": "V6KFhg_S4GZL",
        "colab_type": "text"
      },
      "source": [
        "# Packages Import"
      ]
    },
    {
      "cell_type": "code",
      "metadata": {
        "id": "fR9cLp5T4F0Q",
        "colab_type": "code",
        "colab": {}
      },
      "source": [
        "import torch\n",
        "import torch.nn as nn\n",
        "import torch.optim as optim\n",
        "from torch.optim import lr_scheduler\n",
        "from torch.autograd import Variable\n",
        "import numpy as np\n",
        "import torchvision\n",
        "from torchvision import datasets, models, transforms\n",
        "import matplotlib.pyplot as plt\n",
        "from sklearn.metrics import multilabel_confusion_matrix\n",
        "import csv"
      ],
      "execution_count": 0,
      "outputs": []
    },
    {
      "cell_type": "markdown",
      "metadata": {
        "id": "u42jncjA4MS4",
        "colab_type": "text"
      },
      "source": [
        "# Data Transformation"
      ]
    },
    {
      "cell_type": "code",
      "metadata": {
        "id": "hC0_VjA93K9I",
        "colab_type": "code",
        "colab": {
          "base_uri": "https://localhost:8080/",
          "height": 51
        },
        "outputId": "d99f35c8-140e-4822-8e5d-52c2e46c7c2b"
      },
      "source": [
        "#Define transforms for the training data and testing data\n",
        "train_transforms = transforms.Compose([transforms.RandomRotation(30),\n",
        "                                       transforms.RandomResizedCrop(224),\n",
        "                                       transforms.RandomHorizontalFlip(),\n",
        "                                       transforms.ToTensor(),\n",
        "                                       transforms.Normalize([0.485, 0.456, 0.406],\n",
        "                                                            [0.229, 0.224, 0.225])])\n",
        "\n",
        "vali_transforms = transforms.Compose([transforms.Resize(256),\n",
        "                                      transforms.CenterCrop(224),\n",
        "                                      transforms.ToTensor(),\n",
        "                                      transforms.Normalize([0.485, 0.456, 0.406],\n",
        "                                                           [0.229, 0.224, 0.225])])\n",
        "\n",
        "test_transforms = transforms.Compose([transforms.Resize(256),\n",
        "                                      transforms.CenterCrop(224),\n",
        "                                      transforms.ToTensor(),\n",
        "                                      transforms.Normalize([0.485, 0.456, 0.406],\n",
        "                                                           [0.229, 0.224, 0.225])])\n",
        "\n",
        "#pass transform here-in\n",
        "train_data = datasets.ImageFolder('Train', transform=train_transforms)\n",
        "vali_data = datasets.ImageFolder('Validation', transform=test_transforms)\n",
        "\n",
        "#data loaders\n",
        "trainloader = torch.utils.data.DataLoader(train_data, batch_size=16, shuffle=True)\n",
        "valiloader = torch.utils.data.DataLoader(vali_data, batch_size=16, shuffle=True)\n",
        "\n",
        "print(\"Classes: \")\n",
        "class_names = train_data.classes\n",
        "print(class_names)"
      ],
      "execution_count": 5,
      "outputs": [
        {
          "output_type": "stream",
          "text": [
            "Classes: \n",
            "['covid-19', 'normal', 'pneumonia']\n"
          ],
          "name": "stdout"
        }
      ]
    },
    {
      "cell_type": "code",
      "metadata": {
        "id": "CEAbg3iRcgGy",
        "colab_type": "code",
        "colab": {}
      },
      "source": [
        "class ImageFolderWithPaths(datasets.ImageFolder):\n",
        "    def __getitem__(self, index):\n",
        "        original_tuple = super(ImageFolderWithPaths, self).__getitem__(index)\n",
        "        path = self.imgs[index][0]\n",
        "        tuple_with_path = (original_tuple + (path,))\n",
        "        return tuple_with_path\n",
        "data_dir = \"Test\"\n",
        "testset = ImageFolderWithPaths(data_dir, transform=test_transforms)\n",
        "testloader = torch.utils.data.DataLoader(testset)"
      ],
      "execution_count": 0,
      "outputs": []
    },
    {
      "cell_type": "code",
      "metadata": {
        "id": "zmqW-t5fNGYz",
        "colab_type": "code",
        "colab": {
          "base_uri": "https://localhost:8080/",
          "height": 148
        },
        "outputId": "7f73817d-e4fb-4ef2-e3e0-1084723a8bef"
      },
      "source": [
        "class_names = {0: 'covid-19', 1: 'Normal', 2:'Pneumonia'}\n",
        "def imshow(inp, title=None):\n",
        "    inp = inp.numpy().transpose((1, 2, 0))\n",
        "    plt.axis('off')\n",
        "    plt.imshow(inp)\n",
        "    if title is not None:\n",
        "        plt.title(title)\n",
        "    plt.pause(0.001)\n",
        "\n",
        "def show_databatch(inputs, classes):\n",
        "    classes = classes.numpy()\n",
        "    out = torchvision.utils.make_grid(inputs)\n",
        "    imshow(out, title=[class_names[x] for x in classes])\n",
        "\n",
        "# Get a batch of training data\n",
        "inputs, classes = next(iter(trainloader))\n",
        "show_databatch(inputs, classes)"
      ],
      "execution_count": 7,
      "outputs": [
        {
          "output_type": "stream",
          "text": [
            "Clipping input data to the valid range for imshow with RGB data ([0..1] for floats or [0..255] for integers).\n"
          ],
          "name": "stderr"
        },
        {
          "output_type": "display_data",
          "data": {
            "image/png": "[encoded data removed]",
            "text/plain": [
              "<Figure size 432x288 with 1 Axes>"
            ]
          },
          "metadata": {
            "tags": [],
            "needs_background": "light"
          }
        }
      ]
    },
    {
      "cell_type": "markdown",
      "metadata": {
        "id": "pUZk5vdyK8i5",
        "colab_type": "text"
      },
      "source": [
        "# VGG-16 without Focal Loss"
      ]
    },
    {
      "cell_type": "code",
      "metadata": {
        "id": "7T41V1ymK7qJ",
        "colab_type": "code",
        "colab": {}
      },
      "source": [
        "# Load the pretrained model from pytorch\n",
        "vgg16 = models.vgg16(pretrained=True)"
      ],
      "execution_count": 0,
      "outputs": []
    },
    {
      "cell_type": "code",
      "metadata": {
        "id": "jH4umh0J6hEf",
        "colab_type": "code",
        "colab": {}
      },
      "source": [
        "features = list(vgg16.classifier.children())[0:0] # Remove All FC Layers"
      ],
      "execution_count": 0,
      "outputs": []
    },
    {
      "cell_type": "code",
      "metadata": {
        "id": "VwInlQ9pMszN",
        "colab_type": "code",
        "colab": {}
      },
      "source": [
        "features.extend([nn.Linear(25088, 4096)])\n",
        "features.extend([nn.ReLU(inplace=True)])\n",
        "features.extend([nn.Dropout(p=0.5, inplace=False)])\n",
        "features.extend([nn.Linear(4096, 4096)])\n",
        "features.extend([nn.ReLU(inplace=True)])\n",
        "features.extend([nn.Dropout(p=0.5, inplace=False)])\n",
        "features.extend([nn.Linear(4096, len(class_names))])"
      ],
      "execution_count": 0,
      "outputs": []
    },
    {
      "cell_type": "code",
      "metadata": {
        "id": "ZwsLT-6_M3sF",
        "colab_type": "code",
        "colab": {}
      },
      "source": [
        "vgg16.classifier = nn.Sequential(*features)"
      ],
      "execution_count": 0,
      "outputs": []
    },
    {
      "cell_type": "code",
      "metadata": {
        "id": "CtaifWZaQQnm",
        "colab_type": "code",
        "colab": {}
      },
      "source": [
        "Epochs = 10\n",
        "criterion = nn.BCEWithLogitsLoss()\n",
        "optimizer = optim.SGD(vgg16.parameters(), lr=0.00125, momentum=0.9)"
      ],
      "execution_count": 0,
      "outputs": []
    },
    {
      "cell_type": "code",
      "metadata": {
        "id": "GizZ1BZbQs9y",
        "colab_type": "code",
        "colab": {
          "base_uri": "https://localhost:8080/",
          "height": 442
        },
        "outputId": "9b2aa0f7-de6b-4e85-9647-a2973a624997"
      },
      "source": [
        "from tqdm import tqdm\n",
        "#if you have gpu then you need to convert the network and data to cuda\n",
        "#the easiest way is to first check for device and then convert network and data to device\n",
        "device = torch.device(\"cuda:0\" if torch.cuda.is_available() else \"cpu\")\n",
        "vgg16.to(device)\n",
        "vgg16.train()\n",
        "\n",
        "train_loss = []\n",
        "vali_loss = []\n",
        "train_acc = []\n",
        "vali_acc = []\n",
        "batch_size = 16\n",
        "\n",
        "for epoch in range(Epochs):  # loop over the dataset multiple times\n",
        "\n",
        "    running_loss = 0.0\n",
        "    pbar = tqdm(enumerate(trainloader))\n",
        "    correct = 0\n",
        "    total = 0\n",
        "\n",
        "    for i, data in pbar:\n",
        "        # get the inputs\n",
        "        inputs, labels = data\n",
        "        one_hot = torch.zeros(labels.size(0), 3)\n",
        "        for batch_item in range(labels.size(0)):\n",
        "            if labels[batch_item].cpu().numpy() == 0:\n",
        "                one_hot[batch_item] = torch.tensor([1, 1, 0])\n",
        "            if labels[batch_item].cpu().numpy() == 1:\n",
        "                one_hot[batch_item] = torch.tensor([0, 1, 0])\n",
        "            if labels[batch_item].cpu().numpy() == 2:\n",
        "                one_hot[batch_item] = torch.tensor([0, 0, 1])\n",
        "        inputs, labels, one_hot = inputs.to(device), labels.to(device), one_hot.to(device)\n",
        "        # zero the parameter gradients\n",
        "        optimizer.zero_grad()\n",
        "        # In PyTorch, we need to set the gradients to zero before starting to do backpropragation \n",
        "        # because PyTorch accumulates the gradients on subsequent backward passes. \n",
        "        # This is convenient while training RNNs. \n",
        "        # So, the default action is to accumulate the gradients on every loss.backward() call\n",
        "        # forward + backward + optimize\n",
        "        outputs = vgg16(inputs)          \n",
        "        one_hot = one_hot.float()     #----> forward pass\n",
        "        loss = criterion(outputs, one_hot)   #----> compute loss\n",
        "        loss.backward()                     #----> backward pass\n",
        "        optimizer.step()                    #----> weights update\n",
        "        outputs = torch.sigmoid(outputs)\n",
        "        pred = torch.as_tensor((outputs - 0.5) > 0, dtype=torch.int32)\n",
        "        total += labels.size(0)\n",
        "        for batch_item in range(labels.size(0)):\n",
        "            if np.array_equal(pred[batch_item].cpu().numpy(), one_hot[batch_item].cpu().numpy()):\n",
        "                correct += 1\n",
        "        # print statistics\n",
        "        running_loss += loss.item()\n",
        "        pbar.set_description('Train Epoch: {} [{}/{} ({:.0f}%)]\\tLoss: {:.6f}'.format(epoch, i * len(inputs), len(trainloader.dataset),100. * i / len(trainloader), loss))\n",
        "\n",
        "\n",
        "    train_loss.append(running_loss)\n",
        "    train_acc.append(100 * correct / total)\n",
        "    print(f'Training Loss: {running_loss} Training Accuracy {(100 * correct / total)}')\n",
        "    vali_runing = 0.0\n",
        "    correct = 0\n",
        "    total = 0\n",
        "    for i, data in enumerate(valiloader, 0):\n",
        "         # get the inputs\n",
        "        inputs, labels = data\n",
        "        one_hot = torch.zeros(labels.size(0), 3)\n",
        "        for batch_item in range(labels.size(0)):\n",
        "            if labels[batch_item].cpu().numpy() == 0:\n",
        "                one_hot[batch_item] = torch.tensor([1, 1, 0])\n",
        "            if labels[batch_item].cpu().numpy() == 1:\n",
        "                one_hot[batch_item] = torch.tensor([0, 1, 0])\n",
        "            if labels[batch_item].cpu().numpy() == 2:\n",
        "                one_hot[batch_item] = torch.tensor([0, 0, 1])\n",
        "\n",
        "        inputs, labels, one_hot = Variable(inputs.to(device)), Variable(labels.to(device)), Variable(one_hot.to(device))\n",
        "\n",
        "        output = vgg16(inputs)\n",
        "        one_hot = one_hot.float()\n",
        "        loss = criterion(output, one_hot)\n",
        "        vali_runing += loss.item()\n",
        "        output = torch.sigmoid(output)\n",
        "        pred = torch.as_tensor((output - 0.5) > 0, dtype=torch.int32)\n",
        "        total += labels.size(0)\n",
        "        for batch_item in range(labels.size(0)):\n",
        "            if np.array_equal(pred[batch_item].cpu().numpy(), one_hot[batch_item].cpu().numpy()):\n",
        "                correct += 1\n",
        "\n",
        "    vali_loss.append(vali_runing)\n",
        "    vali_acc.append(100 * correct / total)\n",
        "    print(f'Validation Loss: {vali_runing} Validation Accuracy {(100 * correct / total)}')\n",
        "    torch.save(vgg16.state_dict(), '/content/vgg16_without_FL.pth')\n",
        "\n",
        "print('Finished Training')"
      ],
      "execution_count": 0,
      "outputs": [
        {
          "output_type": "stream",
          "text": [
            "Train Epoch: 0 [3096/6200 (100%)]\tLoss: 0.184023: : 388it [05:38,  1.15it/s]\n"
          ],
          "name": "stderr"
        },
        {
          "output_type": "stream",
          "text": [
            "Training Loss: 127.44453482329845 Training Accuracy 77.25806451612904\n",
            "Validation Loss: 7.706734739243984 Validation Accuracy 89.01273885350318\n"
          ],
          "name": "stdout"
        },
        {
          "output_type": "stream",
          "text": [
            "Train Epoch: 1 [3096/6200 (100%)]\tLoss: 0.214561: : 388it [05:37,  1.15it/s]\n"
          ],
          "name": "stderr"
        },
        {
          "output_type": "stream",
          "text": [
            "Training Loss: 96.40992226265371 Training Accuracy 84.58064516129032\n",
            "Validation Loss: 7.114433114416897 Validation Accuracy 88.53503184713375\n"
          ],
          "name": "stdout"
        },
        {
          "output_type": "stream",
          "text": [
            "Train Epoch: 2 [3096/6200 (100%)]\tLoss: 0.228209: : 388it [05:38,  1.15it/s]\n"
          ],
          "name": "stderr"
        },
        {
          "output_type": "stream",
          "text": [
            "Training Loss: 90.32562723755836 Training Accuracy 86.09677419354838\n",
            "Validation Loss: 6.9573295682203025 Validation Accuracy 89.01273885350318\n"
          ],
          "name": "stdout"
        },
        {
          "output_type": "stream",
          "text": [
            "Train Epoch: 3 [3096/6200 (100%)]\tLoss: 0.125278: : 388it [05:38,  1.15it/s]\n"
          ],
          "name": "stderr"
        },
        {
          "output_type": "stream",
          "text": [
            "Training Loss: 84.99537259340286 Training Accuracy 86.7258064516129\n",
            "Validation Loss: 6.240389309823513 Validation Accuracy 91.0828025477707\n"
          ],
          "name": "stdout"
        },
        {
          "output_type": "stream",
          "text": [
            "Train Epoch: 4 [3096/6200 (100%)]\tLoss: 0.069491: : 388it [05:40,  1.14it/s]\n"
          ],
          "name": "stderr"
        },
        {
          "output_type": "stream",
          "text": [
            "Training Loss: 81.05034072324634 Training Accuracy 86.75806451612904\n",
            "Validation Loss: 6.294350443407893 Validation Accuracy 90.44585987261146\n"
          ],
          "name": "stdout"
        },
        {
          "output_type": "stream",
          "text": [
            "Train Epoch: 5 [3096/6200 (100%)]\tLoss: 0.061050: : 388it [05:41,  1.14it/s]\n"
          ],
          "name": "stderr"
        },
        {
          "output_type": "stream",
          "text": [
            "Training Loss: 77.87703628838062 Training Accuracy 87.91935483870968\n",
            "Validation Loss: 5.990029841661453 Validation Accuracy 90.92356687898089\n"
          ],
          "name": "stdout"
        },
        {
          "output_type": "stream",
          "text": [
            "Train Epoch: 6 [3096/6200 (100%)]\tLoss: 0.260920: : 388it [05:45,  1.12it/s]\n"
          ],
          "name": "stderr"
        },
        {
          "output_type": "stream",
          "text": [
            "Training Loss: 78.16140501014888 Training Accuracy 88.03225806451613\n",
            "Validation Loss: 5.708158530294895 Validation Accuracy 91.56050955414013\n"
          ],
          "name": "stdout"
        },
        {
          "output_type": "stream",
          "text": [
            "Train Epoch: 7 [3096/6200 (100%)]\tLoss: 0.533562: : 388it [05:44,  1.13it/s]\n"
          ],
          "name": "stderr"
        },
        {
          "output_type": "stream",
          "text": [
            "Training Loss: 75.02107376791537 Training Accuracy 88.56451612903226\n",
            "Validation Loss: 5.870566073805094 Validation Accuracy 90.76433121019109\n"
          ],
          "name": "stdout"
        },
        {
          "output_type": "stream",
          "text": [
            "Train Epoch: 8 [1904/6200 (31%)]\tLoss: 0.059789: : 120it [01:46,  1.14it/s]"
          ],
          "name": "stderr"
        }
      ]
    },
    {
      "cell_type": "code",
      "metadata": {
        "id": "G2jOsqwdZKTP",
        "colab_type": "code",
        "colab": {
          "base_uri": "https://localhost:8080/",
          "height": 295
        },
        "outputId": "c0c81fd8-375d-4a99-821e-6c3bd961ee99"
      },
      "source": [
        "fig, ax = plt.subplots()\n",
        "ax.plot(train_loss, marker='o', linestyle='-', linewidth=2, markersize=12, label='Train Loss')\n",
        "plt.legend()\n",
        "ax.set_xlabel('Epochs')\n",
        "ax.set_ylabel('BCEWithLogitsLoss')\n",
        "ax.set_title('Train Loss')\n",
        "plt.show()"
      ],
      "execution_count": 13,
      "outputs": [
        {
          "output_type": "display_data",
          "data": {
            "image/png": "[encoded data removed]",
            "text/plain": [
              "<Figure size 432x288 with 1 Axes>"
            ]
          },
          "metadata": {
            "tags": [],
            "needs_background": "light"
          }
        }
      ]
    },
    {
      "cell_type": "code",
      "metadata": {
        "id": "5CUb4M2kHLuV",
        "colab_type": "code",
        "colab": {
          "base_uri": "https://localhost:8080/",
          "height": 295
        },
        "outputId": "d3aa318c-0870-4f8c-cc30-156dd67d1bf8"
      },
      "source": [
        "fig, ax = plt.subplots()\n",
        "ax.plot(vali_loss, marker='o', linestyle='-', linewidth=2, markersize=12, label='Validation Loss')\n",
        "plt.legend()\n",
        "ax.set_xlabel('Epochs')\n",
        "ax.set_ylabel('BCEWithLogitsLoss')\n",
        "ax.set_title('Validation Loss')\n",
        "plt.show()"
      ],
      "execution_count": 15,
      "outputs": [
        {
          "output_type": "display_data",
          "data": {
            "image/png": "[encoded data removed]",
            "text/plain": [
              "<Figure size 432x288 with 1 Axes>"
            ]
          },
          "metadata": {
            "tags": [],
            "needs_background": "light"
          }
        }
      ]
    },
    {
      "cell_type": "code",
      "metadata": {
        "id": "tsJ9DtxvURkK",
        "colab_type": "code",
        "colab": {
          "base_uri": "https://localhost:8080/",
          "height": 295
        },
        "outputId": "b751615b-95c0-40a0-e133-a4a52f7c6d63"
      },
      "source": [
        "fig, ax = plt.subplots()\n",
        "ax.plot(train_acc, marker='o', linestyle='-', linewidth=2, markersize=12, label='Train Accuracy')\n",
        "plt.legend()\n",
        "ax.set_xlabel('Epochs')\n",
        "ax.set_ylabel('Accracy')\n",
        "ax.set_title('Train Accuracy')\n",
        "plt.show()"
      ],
      "execution_count": 17,
      "outputs": [
        {
          "output_type": "display_data",
          "data": {
            "image/png": "[encoded data removed]",
            "text/plain": [
              "<Figure size 432x288 with 1 Axes>"
            ]
          },
          "metadata": {
            "tags": [],
            "needs_background": "light"
          }
        }
      ]
    },
    {
      "cell_type": "code",
      "metadata": {
        "id": "JC8AwhBqUoCx",
        "colab_type": "code",
        "colab": {
          "base_uri": "https://localhost:8080/",
          "height": 295
        },
        "outputId": "bec70fab-0657-47e3-bb1f-df616124ec74"
      },
      "source": [
        "fig, ax = plt.subplots()\n",
        "ax.plot(vali_acc, marker='o', linestyle='-', linewidth=2, markersize=12, label='Validation Accuracy')\n",
        "plt.legend()\n",
        "ax.set_xlabel('Epochs')\n",
        "ax.set_ylabel('Accracy')\n",
        "ax.set_title('Validation Accuracy')\n",
        "plt.show()"
      ],
      "execution_count": 19,
      "outputs": [
        {
          "output_type": "display_data",
          "data": {
            "image/png": "[encoded data removed]",
            "text/plain": [
              "<Figure size 432x288 with 1 Axes>"
            ]
          },
          "metadata": {
            "tags": [],
            "needs_background": "light"
          }
        }
      ]
    },
    {
      "cell_type": "code",
      "metadata": {
        "id": "mejvvltGHNa6",
        "colab_type": "code",
        "colab": {
          "base_uri": "https://localhost:8080/",
          "height": 204
        },
        "outputId": "f309ace7-1512-43f2-cdd1-0fc5b947a03e"
      },
      "source": [
        "pred_vali = []\n",
        "labels_vali = []\n",
        "correct = 0\n",
        "total = 0\n",
        "with torch.no_grad():\n",
        "  for i, data in enumerate(valiloader, 0):\n",
        "    # get the inputs\n",
        "    inputs, labels = data\n",
        "    one_hot = torch.zeros(labels.size(0), 3)\n",
        "    for batch_item in range(labels.size(0)):\n",
        "        if labels[batch_item].cpu().numpy() == 0:\n",
        "            one_hot[batch_item] = torch.tensor([1, 1, 0])\n",
        "        if labels[batch_item].cpu().numpy() == 1:\n",
        "            one_hot[batch_item] = torch.tensor([0, 1, 0])\n",
        "        if labels[batch_item].cpu().numpy() == 2:\n",
        "            one_hot[batch_item] = torch.tensor([0, 0, 1])\n",
        "\n",
        "    inputs, labels, one_hot = Variable(inputs.to(device)), Variable(labels.to(device)), Variable(one_hot.to(device))\n",
        "\n",
        "    output = vgg16(inputs)\n",
        "    one_hot = one_hot.float()\n",
        "    output = torch.sigmoid(output)\n",
        "    pred = torch.as_tensor((output - 0.5) > 0, dtype=torch.int32)\n",
        "\n",
        "    pred_vali += list(pred.cpu().numpy())\n",
        "    labels_vali += list(one_hot.cpu().numpy())\n",
        "    total += labels.size(0)\n",
        "    for batch_item in range(labels.size(0)):\n",
        "        if np.array_equal(pred[batch_item].cpu().numpy(), one_hot[batch_item].cpu().numpy()):\n",
        "            correct += 1\n",
        "\n",
        "conf_matrix = multilabel_confusion_matrix(pred_vali, labels_vali)\n",
        "print(conf_matrix)\n",
        "print('\\n')\n",
        "print(f'Validation Accuracy {(100 * correct / total)}')"
      ],
      "execution_count": 31,
      "outputs": [
        {
          "output_type": "stream",
          "text": [
            "[[[600  28]\n",
            "  [  0   0]]\n",
            "\n",
            " [[174  12]\n",
            "  [ 26 416]]\n",
            "\n",
            " [[415  26]\n",
            "  [ 13 174]]]\n",
            "\n",
            "\n",
            "Validation Accuracy 90.28662420382166\n"
          ],
          "name": "stdout"
        }
      ]
    },
    {
      "cell_type": "code",
      "metadata": {
        "id": "R4vE6sYYVe1N",
        "colab_type": "code",
        "colab": {
          "base_uri": "https://localhost:8080/",
          "height": 204
        },
        "outputId": "883c9f79-e9c7-4b7a-ad0e-7e79de2d5c20"
      },
      "source": [
        "pred_train = []\n",
        "labels_train = []\n",
        "correct = 0\n",
        "total = 0\n",
        "with torch.no_grad():\n",
        "  for i, data in enumerate(trainloader, 0):\n",
        "    # get the inputs\n",
        "    inputs, labels = data\n",
        "    one_hot = torch.zeros(labels.size(0), 3)\n",
        "    for batch_item in range(labels.size(0)):\n",
        "        if labels[batch_item].cpu().numpy() == 0:\n",
        "            one_hot[batch_item] = torch.tensor([1, 1, 0])\n",
        "        if labels[batch_item].cpu().numpy() == 1:\n",
        "            one_hot[batch_item] = torch.tensor([0, 1, 0])\n",
        "        if labels[batch_item].cpu().numpy() == 2:\n",
        "            one_hot[batch_item] = torch.tensor([0, 0, 1])\n",
        "\n",
        "    inputs, labels, one_hot = Variable(inputs.to(device)), Variable(labels.to(device)), Variable(one_hot.to(device))\n",
        "\n",
        "    output = vgg16(inputs)\n",
        "    one_hot = one_hot.float()\n",
        "    output = torch.sigmoid(output)\n",
        "    pred = torch.as_tensor((output - 0.5) > 0, dtype=torch.int32)\n",
        "\n",
        "    pred_train += list(pred.cpu().numpy())\n",
        "    labels_train += list(one_hot.cpu().numpy())\n",
        "    total += labels.size(0)\n",
        "    for batch_item in range(labels.size(0)):\n",
        "        if np.array_equal(pred[batch_item].cpu().numpy(), one_hot[batch_item].cpu().numpy()):\n",
        "            correct += 1\n",
        "\n",
        "conf_matrix = multilabel_confusion_matrix(pred_train, labels_train)\n",
        "print(conf_matrix)\n",
        "print('\\n')\n",
        "print(f'Training Accuracy {(100 * correct / total)}')"
      ],
      "execution_count": 32,
      "outputs": [
        {
          "output_type": "stream",
          "text": [
            "[[[6000  190]\n",
            "  [   0   10]]\n",
            "\n",
            " [[1655  206]\n",
            "  [ 345 3994]]\n",
            "\n",
            " [[3995  350]\n",
            "  [ 205 1650]]]\n",
            "\n",
            "\n",
            "Training Accuracy 88.95161290322581\n"
          ],
          "name": "stdout"
        }
      ]
    },
    {
      "cell_type": "code",
      "metadata": {
        "id": "VcVqauS7Xx4b",
        "colab_type": "code",
        "colab": {}
      },
      "source": [
        "# Test CSV File\n",
        "f = open('vgg16_without_FL.csv', 'w')\n",
        "writer = csv.writer(f)\n",
        "for inputs, label, path in testloader:\n",
        "    # use the above variables freely\n",
        "    inputs = Variable(inputs.to(device))\n",
        "    output = vgg16(inputs)\n",
        "    output = torch.sigmoid(output)\n",
        "    pred = torch.as_tensor((output - 0.5) > 0, dtype=torch.int32)\n",
        "    input_row = []\n",
        "    input_row.append(str(list(path)[0]).split('/')[-1])\n",
        "    input_row.append(int(pred[0][0].cpu().numpy()))\n",
        "    input_row.append(int(pred[0][1].cpu().numpy()))\n",
        "    input_row.append(int(pred[0][2].cpu().numpy()))\n",
        "    writer.writerow(input_row)\n",
        "f.close()"
      ],
      "execution_count": 0,
      "outputs": []
    },
    {
      "cell_type": "markdown",
      "metadata": {
        "id": "u9M4hyrcggIP",
        "colab_type": "text"
      },
      "source": [
        "# Resnet-18 without Focal Loss"
      ]
    },
    {
      "cell_type": "code",
      "metadata": {
        "id": "9SWUxV8-go4K",
        "colab_type": "code",
        "colab": {}
      },
      "source": [
        "# Load the pretrained model from pytorch\n",
        "resnet18 = models.resnet18(pretrained=True)\n",
        "features = list(resnet18.fc.children())[0:0]\n",
        "\n",
        "features.extend([nn.Linear(512, 390)])\n",
        "features.extend([nn.ReLU(inplace=True)])\n",
        "features.extend([nn.Dropout(p=0.5, inplace=False)])\n",
        "features.extend([nn.Linear(390, len(class_names))])\n",
        "\n",
        "resnet18.fc = nn.Sequential(*features)"
      ],
      "execution_count": 0,
      "outputs": []
    },
    {
      "cell_type": "code",
      "metadata": {
        "id": "LQsQq-eqiQKZ",
        "colab_type": "code",
        "colab": {}
      },
      "source": [
        "Epochs = 10\n",
        "criterion = nn.BCEWithLogitsLoss()\n",
        "optimizer = optim.SGD(resnet18.parameters(), lr=0.00125, momentum=0.9)"
      ],
      "execution_count": 0,
      "outputs": []
    },
    {
      "cell_type": "code",
      "metadata": {
        "id": "6jR_VI3tinI5",
        "colab_type": "code",
        "colab": {
          "base_uri": "https://localhost:8080/",
          "height": 544
        },
        "outputId": "b2dd5265-c987-454f-f606-652e09d01d64"
      },
      "source": [
        "from tqdm import tqdm\n",
        "#if you have gpu then you need to convert the network and data to cuda\n",
        "#the easiest way is to first check for device and then convert network and data to device\n",
        "device = torch.device(\"cuda:0\" if torch.cuda.is_available() else \"cpu\")\n",
        "resnet18.to(device)\n",
        "resnet18.train()\n",
        "\n",
        "train_loss = []\n",
        "vali_loss = []\n",
        "train_acc = []\n",
        "vali_acc = []\n",
        "batch_size = 16\n",
        "\n",
        "for epoch in range(Epochs):  # loop over the dataset multiple times\n",
        "\n",
        "    running_loss = 0.0\n",
        "    pbar = tqdm(enumerate(trainloader))\n",
        "    correct = 0\n",
        "    total = 0\n",
        "\n",
        "    for i, data in pbar:\n",
        "        # get the inputs\n",
        "        inputs, labels = data\n",
        "        one_hot = torch.zeros(labels.size(0), 3)\n",
        "        for batch_item in range(labels.size(0)):\n",
        "            if labels[batch_item].cpu().numpy() == 0:\n",
        "                one_hot[batch_item] = torch.tensor([1, 1, 0])\n",
        "            if labels[batch_item].cpu().numpy() == 1:\n",
        "                one_hot[batch_item] = torch.tensor([0, 1, 0])\n",
        "            if labels[batch_item].cpu().numpy() == 2:\n",
        "                one_hot[batch_item] = torch.tensor([0, 0, 1])\n",
        "        inputs, labels, one_hot = inputs.to(device), labels.to(device), one_hot.to(device)\n",
        "        # zero the parameter gradients\n",
        "        optimizer.zero_grad()\n",
        "        # In PyTorch, we need to set the gradients to zero before starting to do backpropragation \n",
        "        # because PyTorch accumulates the gradients on subsequent backward passes. \n",
        "        # This is convenient while training RNNs. \n",
        "        # So, the default action is to accumulate the gradients on every loss.backward() call\n",
        "        # forward + backward + optimize\n",
        "        outputs =resnet18(inputs)          \n",
        "        one_hot = one_hot.float()     #----> forward pass\n",
        "        loss = criterion(outputs, one_hot)   #----> compute loss\n",
        "        loss.backward()                     #----> backward pass\n",
        "        optimizer.step()                    #----> weights update\n",
        "        outputs = torch.sigmoid(outputs)\n",
        "        pred = torch.as_tensor((outputs - 0.5) > 0, dtype=torch.int32)\n",
        "        total += labels.size(0)\n",
        "        for batch_item in range(labels.size(0)):\n",
        "            if np.array_equal(pred[batch_item].cpu().numpy(), one_hot[batch_item].cpu().numpy()):\n",
        "                correct += 1\n",
        "        # print statistics\n",
        "        running_loss += loss.item()\n",
        "        pbar.set_description('Train Epoch: {} [{}/{} ({:.0f}%)]\\tLoss: {:.6f}'.format(epoch, i * len(inputs), len(trainloader.dataset),100. * i / len(trainloader), loss))\n",
        "\n",
        "\n",
        "    train_loss.append(running_loss)\n",
        "    train_acc.append(100 * correct / total)\n",
        "    print(f'Training Loss: {running_loss} Training Accuracy {(100 * correct / total)}')\n",
        "    vali_runing = 0.0\n",
        "    correct = 0\n",
        "    total = 0\n",
        "    for i, data in enumerate(valiloader, 0):\n",
        "         # get the inputs\n",
        "        inputs, labels = data\n",
        "        one_hot = torch.zeros(labels.size(0), 3)\n",
        "        for batch_item in range(labels.size(0)):\n",
        "            if labels[batch_item].cpu().numpy() == 0:\n",
        "                one_hot[batch_item] = torch.tensor([1, 1, 0])\n",
        "            if labels[batch_item].cpu().numpy() == 1:\n",
        "                one_hot[batch_item] = torch.tensor([0, 1, 0])\n",
        "            if labels[batch_item].cpu().numpy() == 2:\n",
        "                one_hot[batch_item] = torch.tensor([0, 0, 1])\n",
        "\n",
        "        inputs, labels, one_hot = Variable(inputs.to(device)), Variable(labels.to(device)), Variable(one_hot.to(device))\n",
        "\n",
        "        output = resnet18(inputs)\n",
        "        one_hot = one_hot.float()\n",
        "        loss = criterion(output, one_hot)\n",
        "        vali_runing += loss.item()\n",
        "        output = torch.sigmoid(output)\n",
        "        pred = torch.as_tensor((output - 0.5) > 0, dtype=torch.int32)\n",
        "        total += labels.size(0)\n",
        "        for batch_item in range(labels.size(0)):\n",
        "            if np.array_equal(pred[batch_item].cpu().numpy(), one_hot[batch_item].cpu().numpy()):\n",
        "                correct += 1\n",
        "\n",
        "    vali_loss.append(vali_runing)\n",
        "    vali_acc.append(100 * correct / total)\n",
        "    print(f'Validation Loss: {vali_runing} Validation Accuracy {(100 * correct / total)}')\n",
        "    torch.save(resnet18.state_dict(), '/content/resnet18_without_FL.pth')\n",
        "\n",
        "print('Finished Training')"
      ],
      "execution_count": 32,
      "outputs": [
        {
          "output_type": "stream",
          "text": [
            "Train Epoch: 0 [3096/6200 (100%)]\tLoss: 0.218341: : 388it [03:10,  2.04it/s]\n"
          ],
          "name": "stderr"
        },
        {
          "output_type": "stream",
          "text": [
            "Training Loss: 132.4797499626875 Training Accuracy 74.79032258064517\n"
          ],
          "name": "stdout"
        },
        {
          "output_type": "stream",
          "text": [
            "\r0it [00:00, ?it/s]"
          ],
          "name": "stderr"
        },
        {
          "output_type": "stream",
          "text": [
            "Validation Loss: 9.42025151848793 Validation Accuracy 85.19108280254777\n"
          ],
          "name": "stdout"
        },
        {
          "output_type": "stream",
          "text": [
            "Train Epoch: 1 [3096/6200 (100%)]\tLoss: 0.174389: : 388it [03:10,  2.03it/s]\n"
          ],
          "name": "stderr"
        },
        {
          "output_type": "stream",
          "text": [
            "Training Loss: 99.23326060175896 Training Accuracy 83.54838709677419\n"
          ],
          "name": "stdout"
        },
        {
          "output_type": "stream",
          "text": [
            "\r0it [00:00, ?it/s]"
          ],
          "name": "stderr"
        },
        {
          "output_type": "stream",
          "text": [
            "Validation Loss: 7.67754078656435 Validation Accuracy 88.21656050955414\n"
          ],
          "name": "stdout"
        },
        {
          "output_type": "stream",
          "text": [
            "Train Epoch: 2 [3096/6200 (100%)]\tLoss: 0.564326: : 388it [03:10,  2.04it/s]\n"
          ],
          "name": "stderr"
        },
        {
          "output_type": "stream",
          "text": [
            "Training Loss: 89.32463634759188 Training Accuracy 85.64516129032258\n"
          ],
          "name": "stdout"
        },
        {
          "output_type": "stream",
          "text": [
            "\r0it [00:00, ?it/s]"
          ],
          "name": "stderr"
        },
        {
          "output_type": "stream",
          "text": [
            "Validation Loss: 7.211324743926525 Validation Accuracy 88.05732484076434\n"
          ],
          "name": "stdout"
        },
        {
          "output_type": "stream",
          "text": [
            "Train Epoch: 3 [3096/6200 (100%)]\tLoss: 0.109745: : 388it [03:09,  2.05it/s]\n"
          ],
          "name": "stderr"
        },
        {
          "output_type": "stream",
          "text": [
            "Training Loss: 86.78020755574107 Training Accuracy 86.33870967741936\n"
          ],
          "name": "stdout"
        },
        {
          "output_type": "stream",
          "text": [
            "\r0it [00:00, ?it/s]"
          ],
          "name": "stderr"
        },
        {
          "output_type": "stream",
          "text": [
            "Validation Loss: 6.622630499303341 Validation Accuracy 88.21656050955414\n"
          ],
          "name": "stdout"
        },
        {
          "output_type": "stream",
          "text": [
            "Train Epoch: 4 [3096/6200 (100%)]\tLoss: 0.378634: : 388it [03:11,  2.03it/s]\n"
          ],
          "name": "stderr"
        },
        {
          "output_type": "stream",
          "text": [
            "Training Loss: 85.49106142297387 Training Accuracy 86.40322580645162\n"
          ],
          "name": "stdout"
        },
        {
          "output_type": "stream",
          "text": [
            "\r0it [00:00, ?it/s]"
          ],
          "name": "stderr"
        },
        {
          "output_type": "stream",
          "text": [
            "Validation Loss: 7.6820070669054985 Validation Accuracy 87.10191082802548\n"
          ],
          "name": "stdout"
        },
        {
          "output_type": "stream",
          "text": [
            "Train Epoch: 5 [3096/6200 (100%)]\tLoss: 0.096872: : 388it [03:13,  2.01it/s]\n"
          ],
          "name": "stderr"
        },
        {
          "output_type": "stream",
          "text": [
            "Training Loss: 79.62084951996803 Training Accuracy 87.37096774193549\n"
          ],
          "name": "stdout"
        },
        {
          "output_type": "stream",
          "text": [
            "\r0it [00:00, ?it/s]"
          ],
          "name": "stderr"
        },
        {
          "output_type": "stream",
          "text": [
            "Validation Loss: 6.663598727434874 Validation Accuracy 88.37579617834395\n"
          ],
          "name": "stdout"
        },
        {
          "output_type": "stream",
          "text": [
            "Train Epoch: 6 [3096/6200 (100%)]\tLoss: 0.047990: : 388it [03:11,  2.02it/s]\n"
          ],
          "name": "stderr"
        },
        {
          "output_type": "stream",
          "text": [
            "Training Loss: 79.09686318039894 Training Accuracy 87.56451612903226\n"
          ],
          "name": "stdout"
        },
        {
          "output_type": "stream",
          "text": [
            "\r0it [00:00, ?it/s]"
          ],
          "name": "stderr"
        },
        {
          "output_type": "stream",
          "text": [
            "Validation Loss: 5.9924074076116085 Validation Accuracy 89.96815286624204\n"
          ],
          "name": "stdout"
        },
        {
          "output_type": "stream",
          "text": [
            "Train Epoch: 7 [3096/6200 (100%)]\tLoss: 0.049874: : 388it [03:11,  2.03it/s]\n"
          ],
          "name": "stderr"
        },
        {
          "output_type": "stream",
          "text": [
            "Training Loss: 78.15859004482627 Training Accuracy 87.56451612903226\n"
          ],
          "name": "stdout"
        },
        {
          "output_type": "stream",
          "text": [
            "\r0it [00:00, ?it/s]"
          ],
          "name": "stderr"
        },
        {
          "output_type": "stream",
          "text": [
            "Validation Loss: 5.510450981557369 Validation Accuracy 91.56050955414013\n"
          ],
          "name": "stdout"
        },
        {
          "output_type": "stream",
          "text": [
            "Train Epoch: 8 [3096/6200 (100%)]\tLoss: 0.044299: : 388it [03:07,  2.07it/s]\n"
          ],
          "name": "stderr"
        },
        {
          "output_type": "stream",
          "text": [
            "Training Loss: 75.3118397295475 Training Accuracy 88.7258064516129\n"
          ],
          "name": "stdout"
        },
        {
          "output_type": "stream",
          "text": [
            "\r0it [00:00, ?it/s]"
          ],
          "name": "stderr"
        },
        {
          "output_type": "stream",
          "text": [
            "Validation Loss: 5.384225640445948 Validation Accuracy 92.03821656050955\n"
          ],
          "name": "stdout"
        },
        {
          "output_type": "stream",
          "text": [
            "Train Epoch: 9 [3096/6200 (100%)]\tLoss: 0.040466: : 388it [03:08,  2.06it/s]\n"
          ],
          "name": "stderr"
        },
        {
          "output_type": "stream",
          "text": [
            "Training Loss: 72.8388738296926 Training Accuracy 89.20967741935483\n",
            "Validation Loss: 5.376074619591236 Validation Accuracy 91.87898089171975\n",
            "Finished Training\n"
          ],
          "name": "stdout"
        }
      ]
    },
    {
      "cell_type": "code",
      "metadata": {
        "id": "c54Jbw0si231",
        "colab_type": "code",
        "colab": {
          "base_uri": "https://localhost:8080/",
          "height": 295
        },
        "outputId": "4411de14-5897-4ae5-9879-ca877d8f5f1e"
      },
      "source": [
        "fig, ax = plt.subplots()\n",
        "ax.plot(train_loss, marker='o', linestyle='-', linewidth=2, markersize=12, label='Train Loss')\n",
        "plt.legend()\n",
        "ax.set_xlabel('Epochs')\n",
        "ax.set_ylabel('BCEWithLogitsLoss')\n",
        "ax.set_title('Train Loss')\n",
        "plt.show()"
      ],
      "execution_count": 80,
      "outputs": [
        {
          "output_type": "display_data",
          "data": {
            "image/png": "[encoded data removed]",
            "text/plain": [
              "<Figure size 432x288 with 1 Axes>"
            ]
          },
          "metadata": {
            "tags": [],
            "needs_background": "light"
          }
        }
      ]
    },
    {
      "cell_type": "code",
      "metadata": {
        "id": "EFXXv7Sgp8g6",
        "colab_type": "code",
        "colab": {
          "base_uri": "https://localhost:8080/",
          "height": 295
        },
        "outputId": "4b69cdcd-3d17-4747-9767-e723b093db6d"
      },
      "source": [
        "fig, ax = plt.subplots()\n",
        "ax.plot(vali_loss, marker='o', linestyle='-', linewidth=2, markersize=12, label='Validation Loss')\n",
        "plt.legend()\n",
        "ax.set_xlabel('Epochs')\n",
        "ax.set_ylabel('BCEWithLogitsLoss')\n",
        "ax.set_title('Validation Loss')\n",
        "plt.show()"
      ],
      "execution_count": 81,
      "outputs": [
        {
          "output_type": "display_data",
          "data": {
            "image/png": "[encoded data removed]",
            "text/plain": [
              "<Figure size 432x288 with 1 Axes>"
            ]
          },
          "metadata": {
            "tags": [],
            "needs_background": "light"
          }
        }
      ]
    },
    {
      "cell_type": "code",
      "metadata": {
        "id": "MZErpiGTqAbv",
        "colab_type": "code",
        "colab": {
          "base_uri": "https://localhost:8080/",
          "height": 295
        },
        "outputId": "c071fb3e-5cef-484c-abfd-ed232838a510"
      },
      "source": [
        "fig, ax = plt.subplots()\n",
        "ax.plot(train_acc, marker='o', linestyle='-', linewidth=2, markersize=12, label='Train Accuracy')\n",
        "plt.legend()\n",
        "ax.set_xlabel('Epochs')\n",
        "ax.set_ylabel('Accracy')\n",
        "ax.set_title('Train Accuracy')\n",
        "plt.show()"
      ],
      "execution_count": 82,
      "outputs": [
        {
          "output_type": "display_data",
          "data": {
            "image/png": "[encoded data removed]",
            "text/plain": [
              "<Figure size 432x288 with 1 Axes>"
            ]
          },
          "metadata": {
            "tags": [],
            "needs_background": "light"
          }
        }
      ]
    },
    {
      "cell_type": "code",
      "metadata": {
        "id": "WyF-UJbkqES8",
        "colab_type": "code",
        "colab": {
          "base_uri": "https://localhost:8080/",
          "height": 295
        },
        "outputId": "c10846c9-d137-4793-b89c-b0ee41cccb03"
      },
      "source": [
        "fig, ax = plt.subplots()\n",
        "ax.plot(vali_acc, marker='o', linestyle='-', linewidth=2, markersize=12, label='Validation Accuracy')\n",
        "plt.legend()\n",
        "ax.set_xlabel('Epochs')\n",
        "ax.set_ylabel('Accracy')\n",
        "ax.set_title('Validation Accuracy')\n",
        "plt.show()"
      ],
      "execution_count": 83,
      "outputs": [
        {
          "output_type": "display_data",
          "data": {
            "image/png": "[encoded data removed]",
            "text/plain": [
              "<Figure size 432x288 with 1 Axes>"
            ]
          },
          "metadata": {
            "tags": [],
            "needs_background": "light"
          }
        }
      ]
    },
    {
      "cell_type": "code",
      "metadata": {
        "id": "IRi33uvrqItF",
        "colab_type": "code",
        "colab": {
          "base_uri": "https://localhost:8080/",
          "height": 204
        },
        "outputId": "d030fa3d-c728-436d-e0e9-65d9345e485a"
      },
      "source": [
        "pred_vali = []\n",
        "labels_vali = []\n",
        "correct = 0\n",
        "total = 0\n",
        "with torch.no_grad():\n",
        "  for i, data in enumerate(valiloader, 0):\n",
        "    # get the inputs\n",
        "    inputs, labels = data\n",
        "    one_hot = torch.zeros(labels.size(0), 3)\n",
        "    for batch_item in range(labels.size(0)):\n",
        "        if labels[batch_item].cpu().numpy() == 0:\n",
        "            one_hot[batch_item] = torch.tensor([1, 1, 0])\n",
        "        if labels[batch_item].cpu().numpy() == 1:\n",
        "            one_hot[batch_item] = torch.tensor([0, 1, 0])\n",
        "        if labels[batch_item].cpu().numpy() == 2:\n",
        "            one_hot[batch_item] = torch.tensor([0, 0, 1])\n",
        "\n",
        "    inputs, labels, one_hot = Variable(inputs.to(device)), Variable(labels.to(device)), Variable(one_hot.to(device))\n",
        "\n",
        "    output = resnet18(inputs)\n",
        "    one_hot = one_hot.float()\n",
        "    output = torch.sigmoid(output)\n",
        "    pred = torch.as_tensor((output - 0.5) > 0, dtype=torch.int32)\n",
        "\n",
        "    pred_vali += list(pred.cpu().numpy())\n",
        "    labels_vali += list(one_hot.cpu().numpy())\n",
        "    total += labels.size(0)\n",
        "    for batch_item in range(labels.size(0)):\n",
        "        if np.array_equal(pred[batch_item].cpu().numpy(), one_hot[batch_item].cpu().numpy()):\n",
        "            correct += 1\n",
        "\n",
        "conf_matrix = multilabel_confusion_matrix(pred_vali, labels_vali)\n",
        "print(conf_matrix)\n",
        "print('\\n')\n",
        "print(f'Validation Accuracy {(100 * correct / total)}')"
      ],
      "execution_count": 84,
      "outputs": [
        {
          "output_type": "stream",
          "text": [
            "[[[599  16]\n",
            "  [  1  12]]\n",
            "\n",
            " [[180  14]\n",
            "  [ 20 414]]\n",
            "\n",
            " [[415  21]\n",
            "  [ 13 179]]]\n",
            "\n",
            "\n",
            "Validation Accuracy 91.87898089171975\n"
          ],
          "name": "stdout"
        }
      ]
    },
    {
      "cell_type": "code",
      "metadata": {
        "id": "kHs_V5J4qTMx",
        "colab_type": "code",
        "colab": {
          "base_uri": "https://localhost:8080/",
          "height": 204
        },
        "outputId": "4e2a6a4d-9b2b-4283-ca98-474074414ef0"
      },
      "source": [
        "pred_train = []\n",
        "labels_train = []\n",
        "correct = 0\n",
        "total = 0\n",
        "with torch.no_grad():\n",
        "  for i, data in enumerate(trainloader, 0):\n",
        "    # get the inputs\n",
        "    inputs, labels = data\n",
        "    one_hot = torch.zeros(labels.size(0), 3)\n",
        "    for batch_item in range(labels.size(0)):\n",
        "        if labels[batch_item].cpu().numpy() == 0:\n",
        "            one_hot[batch_item] = torch.tensor([1, 1, 0])\n",
        "        if labels[batch_item].cpu().numpy() == 1:\n",
        "            one_hot[batch_item] = torch.tensor([0, 1, 0])\n",
        "        if labels[batch_item].cpu().numpy() == 2:\n",
        "            one_hot[batch_item] = torch.tensor([0, 0, 1])\n",
        "\n",
        "    inputs, labels, one_hot = Variable(inputs.to(device)), Variable(labels.to(device)), Variable(one_hot.to(device))\n",
        "\n",
        "    output = resnet18(inputs)\n",
        "    one_hot = one_hot.float()\n",
        "    output = torch.sigmoid(output)\n",
        "    pred = torch.as_tensor((output - 0.5) > 0, dtype=torch.int32)\n",
        "\n",
        "    pred_train += list(pred.cpu().numpy())\n",
        "    labels_train += list(one_hot.cpu().numpy())\n",
        "    total += labels.size(0)\n",
        "    for batch_item in range(labels.size(0)):\n",
        "        if np.array_equal(pred[batch_item].cpu().numpy(), one_hot[batch_item].cpu().numpy()):\n",
        "            correct += 1\n",
        "\n",
        "conf_matrix = multilabel_confusion_matrix(pred_train, labels_train)\n",
        "print(conf_matrix)\n",
        "print('\\n')\n",
        "print(f'Training Accuracy {(100 * correct / total)}')"
      ],
      "execution_count": 85,
      "outputs": [
        {
          "output_type": "stream",
          "text": [
            "[[[5988  126]\n",
            "  [  12   74]]\n",
            "\n",
            " [[1673  247]\n",
            "  [ 327 3953]]\n",
            "\n",
            " [[3953  325]\n",
            "  [ 247 1675]]]\n",
            "\n",
            "\n",
            "Training Accuracy 89.2741935483871\n"
          ],
          "name": "stdout"
        }
      ]
    },
    {
      "cell_type": "code",
      "metadata": {
        "id": "O_1cpwOgqa5U",
        "colab_type": "code",
        "colab": {}
      },
      "source": [
        "# Test CSV File\n",
        "f = open('resnet18_without_FL.csv', 'w')\n",
        "writer = csv.writer(f)\n",
        "for inputs, label, path in testloader:\n",
        "    # use the above variables freely\n",
        "    inputs = Variable(inputs.to(device))\n",
        "    output = vgg16(inputs)\n",
        "    output = torch.sigmoid(output)\n",
        "    pred = torch.as_tensor((output - 0.5) > 0, dtype=torch.int32)\n",
        "    input_row = []\n",
        "    input_row.append(str(list(path)[0]).split('/')[-1])\n",
        "    input_row.append(int(pred[0][0].cpu().numpy()))\n",
        "    input_row.append(int(pred[0][1].cpu().numpy()))\n",
        "    input_row.append(int(pred[0][2].cpu().numpy()))\n",
        "    writer.writerow(input_row)\n",
        "f.close()"
      ],
      "execution_count": 0,
      "outputs": []
    },
    {
      "cell_type": "markdown",
      "metadata": {
        "id": "4R7y4n4Zqp-z",
        "colab_type": "text"
      },
      "source": [
        "# VGG-16 With Focal Loss"
      ]
    },
    {
      "cell_type": "code",
      "metadata": {
        "id": "qAVRJwb0quQo",
        "colab_type": "code",
        "colab": {}
      },
      "source": [
        "# Load the pretrained model from pytorch\n",
        "vgg16 = models.vgg16(pretrained=True)\n",
        "features = list(vgg16.classifier.children())[0:0] # Remove All FC Layers\n",
        "features.extend([nn.Linear(25088, 4096)])\n",
        "features.extend([nn.ReLU(inplace=True)])\n",
        "features.extend([nn.Dropout(p=0.5, inplace=False)])\n",
        "features.extend([nn.Linear(4096, 4096)])\n",
        "features.extend([nn.ReLU(inplace=True)])\n",
        "features.extend([nn.Dropout(p=0.5, inplace=False)])\n",
        "features.extend([nn.Linear(4096, len(class_names))])\n",
        "vgg16.classifier = nn.Sequential(*features)\n",
        "\n",
        "class ModelFocalLoss(nn.Module):\n",
        "    # Import Class\n",
        "    # Set Parameters\n",
        "    def __init__(self, alpha=1, gamma=1.8, logits=True, reduce=True):\n",
        "        super(ModelFocalLoss, self).__init__()\n",
        "        self.alpha = alpha\n",
        "        self.gamma = gamma\n",
        "        self.logits = logits\n",
        "        self.reduce = reduce\n",
        "\n",
        "    def forward(self, inputs, targets):\n",
        "        if self.logits:\n",
        "            bce_loss = torch.nn.functional.binary_cross_entropy_with_logits(inputs, targets, reduce=False)\n",
        "        else:\n",
        "            bce_loss = torch.nn.functional.binary_cross_entropy(inputs, targets, reduce=False)\n",
        "        pt = torch.exp(-bce_loss)\n",
        "        F_loss = self.alpha * (1-pt)**self.gamma * bce_loss\n",
        "        if self.reduce:\n",
        "            return torch.mean(F_loss)\n",
        "        else:\n",
        "            return F_loss"
      ],
      "execution_count": 0,
      "outputs": []
    },
    {
      "cell_type": "code",
      "metadata": {
        "id": "Hsx3RFRlrB4z",
        "colab_type": "code",
        "colab": {}
      },
      "source": [
        "Epochs = 10\n",
        "criterion = ModelFocalLoss()\n",
        "optimizer = optim.SGD(vgg16.parameters(), lr=0.00125, momentum=0.9)"
      ],
      "execution_count": 0,
      "outputs": []
    },
    {
      "cell_type": "code",
      "metadata": {
        "id": "7StqAiRgsuHN",
        "colab_type": "code",
        "colab": {
          "base_uri": "https://localhost:8080/",
          "height": 598
        },
        "outputId": "eabe5713-adf6-430f-e246-32500bc8f8de"
      },
      "source": [
        "from tqdm import tqdm\n",
        "#if you have gpu then you need to convert the network and data to cuda\n",
        "#the easiest way is to first check for device and then convert network and data to device\n",
        "device = torch.device(\"cuda:0\" if torch.cuda.is_available() else \"cpu\")\n",
        "vgg16.to(device)\n",
        "vgg16.train()\n",
        "\n",
        "train_loss = []\n",
        "vali_loss = []\n",
        "train_acc = []\n",
        "vali_acc = []\n",
        "batch_size = 16\n",
        "\n",
        "for epoch in range(Epochs):  # loop over the dataset multiple times\n",
        "\n",
        "    running_loss = 0.0\n",
        "    pbar = tqdm(enumerate(trainloader))\n",
        "    correct = 0\n",
        "    total = 0\n",
        "\n",
        "    for i, data in pbar:\n",
        "        # get the inputs\n",
        "        inputs, labels = data\n",
        "        one_hot = torch.zeros(labels.size(0), 3)\n",
        "        for batch_item in range(labels.size(0)):\n",
        "            if labels[batch_item].cpu().numpy() == 0:\n",
        "                one_hot[batch_item] = torch.tensor([1, 1, 0])\n",
        "            if labels[batch_item].cpu().numpy() == 1:\n",
        "                one_hot[batch_item] = torch.tensor([0, 1, 0])\n",
        "            if labels[batch_item].cpu().numpy() == 2:\n",
        "                one_hot[batch_item] = torch.tensor([0, 0, 1])\n",
        "        inputs, labels, one_hot = inputs.to(device), labels.to(device), one_hot.to(device)\n",
        "        # zero the parameter gradients\n",
        "        optimizer.zero_grad()\n",
        "        # In PyTorch, we need to set the gradients to zero before starting to do backpropragation \n",
        "        # because PyTorch accumulates the gradients on subsequent backward passes. \n",
        "        # This is convenient while training RNNs. \n",
        "        # So, the default action is to accumulate the gradients on every loss.backward() call\n",
        "        # forward + backward + optimize\n",
        "        outputs = vgg16(inputs)          \n",
        "        one_hot = one_hot.float()     #----> forward pass\n",
        "        loss = criterion(outputs, one_hot)   #----> compute loss\n",
        "        loss.backward()                     #----> backward pass\n",
        "        optimizer.step()                    #----> weights update\n",
        "        outputs = torch.sigmoid(outputs)\n",
        "        pred = torch.as_tensor((outputs - 0.5) > 0, dtype=torch.int32)\n",
        "        total += labels.size(0)\n",
        "        for batch_item in range(labels.size(0)):\n",
        "            if np.array_equal(pred[batch_item].cpu().numpy(), one_hot[batch_item].cpu().numpy()):\n",
        "                correct += 1\n",
        "        # print statistics\n",
        "        running_loss += loss.item()\n",
        "        pbar.set_description('Train Epoch: {} [{}/{} ({:.0f}%)]\\tLoss: {:.6f}'.format(epoch, i * len(inputs), len(trainloader.dataset),100. * i / len(trainloader), loss))\n",
        "\n",
        "\n",
        "    train_loss.append(running_loss)\n",
        "    train_acc.append(100 * correct / total)\n",
        "    print(f'Training Loss: {running_loss} Training Accuracy {(100 * correct / total)}')\n",
        "    vali_runing = 0.0\n",
        "    correct = 0\n",
        "    total = 0\n",
        "    for i, data in enumerate(valiloader, 0):\n",
        "         # get the inputs\n",
        "        inputs, labels = data\n",
        "        one_hot = torch.zeros(labels.size(0), 3)\n",
        "        for batch_item in range(labels.size(0)):\n",
        "            if labels[batch_item].cpu().numpy() == 0:\n",
        "                one_hot[batch_item] = torch.tensor([1, 1, 0])\n",
        "            if labels[batch_item].cpu().numpy() == 1:\n",
        "                one_hot[batch_item] = torch.tensor([0, 1, 0])\n",
        "            if labels[batch_item].cpu().numpy() == 2:\n",
        "                one_hot[batch_item] = torch.tensor([0, 0, 1])\n",
        "\n",
        "        inputs, labels, one_hot = Variable(inputs.to(device)), Variable(labels.to(device)), Variable(one_hot.to(device))\n",
        "\n",
        "        output = vgg16(inputs)\n",
        "        one_hot = one_hot.float()\n",
        "        loss = criterion(output, one_hot)\n",
        "        vali_runing += loss.item()\n",
        "        output = torch.sigmoid(output)\n",
        "        pred = torch.as_tensor((output - 0.5) > 0, dtype=torch.int32)\n",
        "        total += labels.size(0)\n",
        "        for batch_item in range(labels.size(0)):\n",
        "            if np.array_equal(pred[batch_item].cpu().numpy(), one_hot[batch_item].cpu().numpy()):\n",
        "                correct += 1\n",
        "\n",
        "    vali_loss.append(vali_runing)\n",
        "    vali_acc.append(100 * correct / total)\n",
        "    print(f'Validation Loss: {vali_runing} Validation Accuracy {(100 * correct / total)}')\n",
        "    torch.save(vgg16.state_dict(), '/content/vgg16_focal_loss.pth')\n",
        "\n",
        "print('Finished Training')"
      ],
      "execution_count": 11,
      "outputs": [
        {
          "output_type": "stream",
          "text": [
            "\r0it [00:00, ?it/s]/usr/local/lib/python3.6/dist-packages/torch/nn/_reduction.py:43: UserWarning: size_average and reduce args will be deprecated, please use reduction='none' instead.\n",
            "  warnings.warn(warning.format(ret))\n",
            "Train Epoch: 0 [3096/6200 (100%)]\tLoss: 0.094608: : 388it [53:57,  8.34s/it]\n"
          ],
          "name": "stderr"
        },
        {
          "output_type": "stream",
          "text": [
            "Training Loss: 40.2714416757226 Training Accuracy 74.20967741935483\n",
            "Validation Loss: 3.017808811739087 Validation Accuracy 84.87261146496816\n"
          ],
          "name": "stdout"
        },
        {
          "output_type": "stream",
          "text": [
            "Train Epoch: 1 [3096/6200 (100%)]\tLoss: 0.047232: : 388it [05:40,  1.14it/s]\n"
          ],
          "name": "stderr"
        },
        {
          "output_type": "stream",
          "text": [
            "Training Loss: 31.25225073285401 Training Accuracy 83.1774193548387\n",
            "Validation Loss: 2.481051703915 Validation Accuracy 87.89808917197452\n"
          ],
          "name": "stdout"
        },
        {
          "output_type": "stream",
          "text": [
            "Train Epoch: 2 [3096/6200 (100%)]\tLoss: 0.022643: : 388it [05:34,  1.16it/s]\n"
          ],
          "name": "stderr"
        },
        {
          "output_type": "stream",
          "text": [
            "Training Loss: 28.597688917070627 Training Accuracy 84.62903225806451\n",
            "Validation Loss: 2.1566150691360235 Validation Accuracy 89.80891719745223\n"
          ],
          "name": "stdout"
        },
        {
          "output_type": "stream",
          "text": [
            "Train Epoch: 3 [3096/6200 (100%)]\tLoss: 0.233441: : 388it [05:40,  1.14it/s]\n"
          ],
          "name": "stderr"
        },
        {
          "output_type": "stream",
          "text": [
            "Training Loss: 26.394085781648755 Training Accuracy 86.14516129032258\n",
            "Validation Loss: 2.1143625173717737 Validation Accuracy 89.49044585987261\n"
          ],
          "name": "stdout"
        },
        {
          "output_type": "stream",
          "text": [
            "Train Epoch: 4 [3096/6200 (100%)]\tLoss: 0.008909: : 388it [05:41,  1.14it/s]\n"
          ],
          "name": "stderr"
        },
        {
          "output_type": "stream",
          "text": [
            "Training Loss: 26.25389400217682 Training Accuracy 86.29032258064517\n",
            "Validation Loss: 2.087428830564022 Validation Accuracy 89.96815286624204\n"
          ],
          "name": "stdout"
        },
        {
          "output_type": "stream",
          "text": [
            "Train Epoch: 5 [3096/6200 (100%)]\tLoss: 0.006940: : 388it [05:41,  1.13it/s]\n"
          ],
          "name": "stderr"
        },
        {
          "output_type": "stream",
          "text": [
            "Training Loss: 24.980207341723144 Training Accuracy 86.2741935483871\n",
            "Validation Loss: 2.405607015825808 Validation Accuracy 88.05732484076434\n"
          ],
          "name": "stdout"
        },
        {
          "output_type": "stream",
          "text": [
            "Train Epoch: 6 [3096/6200 (100%)]\tLoss: 0.052899: : 388it [05:39,  1.14it/s]\n"
          ],
          "name": "stderr"
        },
        {
          "output_type": "stream",
          "text": [
            "Training Loss: 24.307394661940634 Training Accuracy 87.40322580645162\n",
            "Validation Loss: 2.038444451056421 Validation Accuracy 90.44585987261146\n"
          ],
          "name": "stdout"
        },
        {
          "output_type": "stream",
          "text": [
            "Train Epoch: 7 [3096/6200 (100%)]\tLoss: 0.112925: : 388it [05:37,  1.15it/s]\n"
          ],
          "name": "stderr"
        },
        {
          "output_type": "stream",
          "text": [
            "Training Loss: 23.840892989188433 Training Accuracy 87.58064516129032\n",
            "Validation Loss: 1.9302603090181947 Validation Accuracy 90.12738853503184\n"
          ],
          "name": "stdout"
        },
        {
          "output_type": "stream",
          "text": [
            "Train Epoch: 8 [3096/6200 (100%)]\tLoss: 0.014986: : 388it [05:39,  1.14it/s]\n"
          ],
          "name": "stderr"
        },
        {
          "output_type": "stream",
          "text": [
            "Training Loss: 22.91388596780598 Training Accuracy 87.79032258064517\n",
            "Validation Loss: 1.6352396397851408 Validation Accuracy 90.76433121019109\n"
          ],
          "name": "stdout"
        },
        {
          "output_type": "stream",
          "text": [
            "Train Epoch: 9 [3096/6200 (100%)]\tLoss: 0.029844: : 388it [05:38,  1.14it/s]\n"
          ],
          "name": "stderr"
        },
        {
          "output_type": "stream",
          "text": [
            "Training Loss: 23.25886405352503 Training Accuracy 87.38709677419355\n",
            "Validation Loss: 2.0401136078871787 Validation Accuracy 91.24203821656052\n",
            "Finished Training\n"
          ],
          "name": "stdout"
        }
      ]
    },
    {
      "cell_type": "code",
      "metadata": {
        "id": "0F1pyndUtLbj",
        "colab_type": "code",
        "colab": {
          "base_uri": "https://localhost:8080/",
          "height": 295
        },
        "outputId": "9b409d4f-854f-4e28-fd46-5e6718805798"
      },
      "source": [
        "fig, ax = plt.subplots()\n",
        "ax.plot(train_loss, marker='o', linestyle='-', linewidth=2, markersize=12, label='Train Loss')\n",
        "plt.legend()\n",
        "ax.set_xlabel('Epochs')\n",
        "ax.set_ylabel('BCEWithLogitsLoss')\n",
        "ax.set_title('Train Loss')\n",
        "plt.show()"
      ],
      "execution_count": 12,
      "outputs": [
        {
          "output_type": "display_data",
          "data": {
            "image/png": "[encoded data removed]",
            "text/plain": [
              "<Figure size 432x288 with 1 Axes>"
            ]
          },
          "metadata": {
            "tags": [],
            "needs_background": "light"
          }
        }
      ]
    },
    {
      "cell_type": "code",
      "metadata": {
        "id": "EP6d59gU7Rk_",
        "colab_type": "code",
        "colab": {
          "base_uri": "https://localhost:8080/",
          "height": 295
        },
        "outputId": "cf65a911-266c-4037-95ce-8114ed02bd09"
      },
      "source": [
        "fig, ax = plt.subplots()\n",
        "ax.plot(vali_loss, marker='o', linestyle='-', linewidth=2, markersize=12, label='Validation Loss')\n",
        "plt.legend()\n",
        "ax.set_xlabel('Epochs')\n",
        "ax.set_ylabel('BCEWithLogitsLoss')\n",
        "ax.set_title('Validation Loss')\n",
        "plt.show()"
      ],
      "execution_count": 13,
      "outputs": [
        {
          "output_type": "display_data",
          "data": {
            "image/png": "[encoded data removed]",
            "text/plain": [
              "<Figure size 432x288 with 1 Axes>"
            ]
          },
          "metadata": {
            "tags": [],
            "needs_background": "light"
          }
        }
      ]
    },
    {
      "cell_type": "code",
      "metadata": {
        "id": "XiUv09rP7Zx7",
        "colab_type": "code",
        "colab": {
          "base_uri": "https://localhost:8080/",
          "height": 295
        },
        "outputId": "ac783c0d-d9e6-49ac-ec37-cccf9a22e0e2"
      },
      "source": [
        "fig, ax = plt.subplots()\n",
        "ax.plot(train_acc, marker='o', linestyle='-', linewidth=2, markersize=12, label='Train Accuracy')\n",
        "plt.legend()\n",
        "ax.set_xlabel('Epochs')\n",
        "ax.set_ylabel('Accracy')\n",
        "ax.set_title('Train Accuracy')\n",
        "plt.show()"
      ],
      "execution_count": 14,
      "outputs": [
        {
          "output_type": "display_data",
          "data": {
            "image/png": "[encoded data removed]",
            "text/plain": [
              "<Figure size 432x288 with 1 Axes>"
            ]
          },
          "metadata": {
            "tags": [],
            "needs_background": "light"
          }
        }
      ]
    },
    {
      "cell_type": "code",
      "metadata": {
        "id": "K8isabGE7dzV",
        "colab_type": "code",
        "colab": {
          "base_uri": "https://localhost:8080/",
          "height": 295
        },
        "outputId": "cde2afb4-fcc4-46ed-aa73-e3c842c2dc9c"
      },
      "source": [
        "fig, ax = plt.subplots()\n",
        "ax.plot(vali_acc, marker='o', linestyle='-', linewidth=2, markersize=12, label='Validation Accuracy')\n",
        "plt.legend()\n",
        "ax.set_xlabel('Epochs')\n",
        "ax.set_ylabel('Accracy')\n",
        "ax.set_title('Validation Accuracy')\n",
        "plt.show()"
      ],
      "execution_count": 15,
      "outputs": [
        {
          "output_type": "display_data",
          "data": {
            "image/png": "[encoded data removed]",
            "text/plain": [
              "<Figure size 432x288 with 1 Axes>"
            ]
          },
          "metadata": {
            "tags": [],
            "needs_background": "light"
          }
        }
      ]
    },
    {
      "cell_type": "code",
      "metadata": {
        "id": "vhL2J6VT7hjn",
        "colab_type": "code",
        "colab": {
          "base_uri": "https://localhost:8080/",
          "height": 204
        },
        "outputId": "12b71b78-cec0-4127-f743-64ab3e9b2dc4"
      },
      "source": [
        "pred_vali = []\n",
        "labels_vali = []\n",
        "correct = 0\n",
        "total = 0\n",
        "with torch.no_grad():\n",
        "  for i, data in enumerate(valiloader, 0):\n",
        "    # get the inputs\n",
        "    inputs, labels = data\n",
        "    one_hot = torch.zeros(labels.size(0), 3)\n",
        "    for batch_item in range(labels.size(0)):\n",
        "        if labels[batch_item].cpu().numpy() == 0:\n",
        "            one_hot[batch_item] = torch.tensor([1, 1, 0])\n",
        "        if labels[batch_item].cpu().numpy() == 1:\n",
        "            one_hot[batch_item] = torch.tensor([0, 1, 0])\n",
        "        if labels[batch_item].cpu().numpy() == 2:\n",
        "            one_hot[batch_item] = torch.tensor([0, 0, 1])\n",
        "\n",
        "    inputs, labels, one_hot = Variable(inputs.to(device)), Variable(labels.to(device)), Variable(one_hot.to(device))\n",
        "\n",
        "    output = vgg16(inputs)\n",
        "    one_hot = one_hot.float()\n",
        "    output = torch.sigmoid(output)\n",
        "    pred = torch.as_tensor((output - 0.5) > 0, dtype=torch.int32)\n",
        "\n",
        "    pred_vali += list(pred.cpu().numpy())\n",
        "    labels_vali += list(one_hot.cpu().numpy())\n",
        "    total += labels.size(0)\n",
        "    for batch_item in range(labels.size(0)):\n",
        "        if np.array_equal(pred[batch_item].cpu().numpy(), one_hot[batch_item].cpu().numpy()):\n",
        "            correct += 1\n",
        "\n",
        "conf_matrix = multilabel_confusion_matrix(pred_vali, labels_vali)\n",
        "print(conf_matrix)\n",
        "print('\\n')\n",
        "print(f'Validation Accuracy {(100 * correct / total)}')"
      ],
      "execution_count": 16,
      "outputs": [
        {
          "output_type": "stream",
          "text": [
            "[[[600  28]\n",
            "  [  0   0]]\n",
            "\n",
            " [[185  18]\n",
            "  [ 15 410]]\n",
            "\n",
            " [[410  18]\n",
            "  [ 18 182]]]\n",
            "\n",
            "\n",
            "Validation Accuracy 90.60509554140127\n"
          ],
          "name": "stdout"
        }
      ]
    },
    {
      "cell_type": "code",
      "metadata": {
        "id": "S9-HKB4v7rTQ",
        "colab_type": "code",
        "colab": {
          "base_uri": "https://localhost:8080/",
          "height": 204
        },
        "outputId": "abd0e327-007e-449e-c28b-b5783e91af5a"
      },
      "source": [
        "pred_train = []\n",
        "labels_train = []\n",
        "correct = 0\n",
        "total = 0\n",
        "with torch.no_grad():\n",
        "  for i, data in enumerate(trainloader, 0):\n",
        "    # get the inputs\n",
        "    inputs, labels = data\n",
        "    one_hot = torch.zeros(labels.size(0), 3)\n",
        "    for batch_item in range(labels.size(0)):\n",
        "        if labels[batch_item].cpu().numpy() == 0:\n",
        "            one_hot[batch_item] = torch.tensor([1, 1, 0])\n",
        "        if labels[batch_item].cpu().numpy() == 1:\n",
        "            one_hot[batch_item] = torch.tensor([0, 1, 0])\n",
        "        if labels[batch_item].cpu().numpy() == 2:\n",
        "            one_hot[batch_item] = torch.tensor([0, 0, 1])\n",
        "\n",
        "    inputs, labels, one_hot = Variable(inputs.to(device)), Variable(labels.to(device)), Variable(one_hot.to(device))\n",
        "\n",
        "    output = vgg16(inputs)\n",
        "    one_hot = one_hot.float()\n",
        "    output = torch.sigmoid(output)\n",
        "    pred = torch.as_tensor((output - 0.5) > 0, dtype=torch.int32)\n",
        "\n",
        "    pred_train += list(pred.cpu().numpy())\n",
        "    labels_train += list(one_hot.cpu().numpy())\n",
        "    total += labels.size(0)\n",
        "    for batch_item in range(labels.size(0)):\n",
        "        if np.array_equal(pred[batch_item].cpu().numpy(), one_hot[batch_item].cpu().numpy()):\n",
        "            correct += 1\n",
        "\n",
        "conf_matrix = multilabel_confusion_matrix(pred_train, labels_train)\n",
        "print(conf_matrix)\n",
        "print('\\n')\n",
        "print(f'Training Accuracy {(100 * correct / total)}')"
      ],
      "execution_count": 17,
      "outputs": [
        {
          "output_type": "stream",
          "text": [
            "[[[5998  173]\n",
            "  [   2   27]]\n",
            "\n",
            " [[1761  385]\n",
            "  [ 239 3815]]\n",
            "\n",
            " [[3823  231]\n",
            "  [ 377 1769]]]\n",
            "\n",
            "\n",
            "Training Accuracy 88.08064516129032\n"
          ],
          "name": "stdout"
        }
      ]
    },
    {
      "cell_type": "code",
      "metadata": {
        "id": "5rl473oL77Pq",
        "colab_type": "code",
        "colab": {}
      },
      "source": [
        "# Test CSV File\n",
        "f = open('vgg16_focal_loss.csv', 'w')\n",
        "writer = csv.writer(f)\n",
        "for inputs, label, path in testloader:\n",
        "    # use the above variables freely\n",
        "    inputs = Variable(inputs.to(device))\n",
        "    output = vgg16(inputs)\n",
        "    output = torch.sigmoid(output)\n",
        "    pred = torch.as_tensor((output - 0.5) > 0, dtype=torch.int32)\n",
        "    input_row = []\n",
        "    input_row.append(str(list(path)[0]).split('/')[-1])\n",
        "    input_row.append(int(pred[0][0].cpu().numpy()))\n",
        "    input_row.append(int(pred[0][1].cpu().numpy()))\n",
        "    input_row.append(int(pred[0][2].cpu().numpy()))\n",
        "    writer.writerow(input_row)\n",
        "f.close()"
      ],
      "execution_count": 0,
      "outputs": []
    },
    {
      "cell_type": "markdown",
      "metadata": {
        "id": "0OusF0fP8-hQ",
        "colab_type": "text"
      },
      "source": [
        "# Resnet18 with Focal Loss"
      ]
    },
    {
      "cell_type": "code",
      "metadata": {
        "id": "R8WYZwgU89mH",
        "colab_type": "code",
        "colab": {}
      },
      "source": [
        "# Load the pretrained model from pytorch\n",
        "resnet18 = models.resnet18(pretrained=True)\n",
        "features = list(resnet18.fc.children())[0:0]\n",
        "\n",
        "features.extend([nn.Linear(512, 390)])\n",
        "features.extend([nn.ReLU(inplace=True)])\n",
        "features.extend([nn.Dropout(p=0.5, inplace=False)])\n",
        "features.extend([nn.Linear(390, len(class_names))])\n",
        "\n",
        "resnet18.fc = nn.Sequential(*features)\n",
        "\n",
        "class ModelFocalLoss(nn.Module):\n",
        "    # Import Class\n",
        "    # Set Parameters\n",
        "    def __init__(self, alpha=1, gamma=1.8, logits=True, reduce=True):\n",
        "        super(ModelFocalLoss, self).__init__()\n",
        "        self.alpha = alpha\n",
        "        self.gamma = gamma\n",
        "        self.logits = logits\n",
        "        self.reduce = reduce\n",
        "\n",
        "    def forward(self, inputs, targets):\n",
        "        if self.logits:\n",
        "            bce_loss = torch.nn.functional.binary_cross_entropy_with_logits(inputs, targets, reduce=False)\n",
        "        else:\n",
        "            bce_loss = torch.nn.functional.binary_cross_entropy(inputs, targets, reduce=False)\n",
        "        pt = torch.exp(-bce_loss)\n",
        "        F_loss = self.alpha * (1-pt)**self.gamma * bce_loss\n",
        "        if self.reduce:\n",
        "            return torch.mean(F_loss)\n",
        "        else:\n",
        "            return F_loss"
      ],
      "execution_count": 0,
      "outputs": []
    },
    {
      "cell_type": "code",
      "metadata": {
        "id": "K_GpjDUT9LYk",
        "colab_type": "code",
        "colab": {}
      },
      "source": [
        "Epochs = 10\n",
        "criterion = ModelFocalLoss()\n",
        "optimizer = optim.SGD(resnet18.parameters(), lr=0.00125, momentum=0.9)"
      ],
      "execution_count": 0,
      "outputs": []
    },
    {
      "cell_type": "code",
      "metadata": {
        "id": "nMOW4YBM9bvZ",
        "colab_type": "code",
        "colab": {
          "base_uri": "https://localhost:8080/",
          "height": 598
        },
        "outputId": "cf9a761a-a522-4a1b-a9b8-59dfadeb14eb"
      },
      "source": [
        "from tqdm import tqdm\n",
        "#if you have gpu then you need to convert the network and data to cuda\n",
        "#the easiest way is to first check for device and then convert network and data to device\n",
        "device = torch.device(\"cuda:0\" if torch.cuda.is_available() else \"cpu\")\n",
        "resnet18.to(device)\n",
        "resnet18.train()\n",
        "\n",
        "train_loss = []\n",
        "vali_loss = []\n",
        "train_acc = []\n",
        "vali_acc = []\n",
        "batch_size = 16\n",
        "\n",
        "for epoch in range(Epochs):  # loop over the dataset multiple times\n",
        "\n",
        "    running_loss = 0.0\n",
        "    pbar = tqdm(enumerate(trainloader))\n",
        "    correct = 0\n",
        "    total = 0\n",
        "\n",
        "    for i, data in pbar:\n",
        "        # get the inputs\n",
        "        inputs, labels = data\n",
        "        one_hot = torch.zeros(labels.size(0), 3)\n",
        "        for batch_item in range(labels.size(0)):\n",
        "            if labels[batch_item].cpu().numpy() == 0:\n",
        "                one_hot[batch_item] = torch.tensor([1, 1, 0])\n",
        "            if labels[batch_item].cpu().numpy() == 1:\n",
        "                one_hot[batch_item] = torch.tensor([0, 1, 0])\n",
        "            if labels[batch_item].cpu().numpy() == 2:\n",
        "                one_hot[batch_item] = torch.tensor([0, 0, 1])\n",
        "        inputs, labels, one_hot = inputs.to(device), labels.to(device), one_hot.to(device)\n",
        "        # zero the parameter gradients\n",
        "        optimizer.zero_grad()\n",
        "        # In PyTorch, we need to set the gradients to zero before starting to do backpropragation \n",
        "        # because PyTorch accumulates the gradients on subsequent backward passes. \n",
        "        # This is convenient while training RNNs. \n",
        "        # So, the default action is to accumulate the gradients on every loss.backward() call\n",
        "        # forward + backward + optimize\n",
        "        outputs =resnet18(inputs)          \n",
        "        one_hot = one_hot.float()     #----> forward pass\n",
        "        loss = criterion(outputs, one_hot)   #----> compute loss\n",
        "        loss.backward()                     #----> backward pass\n",
        "        optimizer.step()                    #----> weights update\n",
        "        outputs = torch.sigmoid(outputs)\n",
        "        pred = torch.as_tensor((outputs - 0.5) > 0, dtype=torch.int32)\n",
        "        total += labels.size(0)\n",
        "        for batch_item in range(labels.size(0)):\n",
        "            if np.array_equal(pred[batch_item].cpu().numpy(), one_hot[batch_item].cpu().numpy()):\n",
        "                correct += 1\n",
        "        # print statistics\n",
        "        running_loss += loss.item()\n",
        "        pbar.set_description('Train Epoch: {} [{}/{} ({:.0f}%)]\\tLoss: {:.6f}'.format(epoch, i * len(inputs), len(trainloader.dataset),100. * i / len(trainloader), loss))\n",
        "\n",
        "\n",
        "    train_loss.append(running_loss)\n",
        "    train_acc.append(100 * correct / total)\n",
        "    print(f'Training Loss: {running_loss} Training Accuracy {(100 * correct / total)}')\n",
        "    vali_runing = 0.0\n",
        "    correct = 0\n",
        "    total = 0\n",
        "    for i, data in enumerate(valiloader, 0):\n",
        "         # get the inputs\n",
        "        inputs, labels = data\n",
        "        one_hot = torch.zeros(labels.size(0), 3)\n",
        "        for batch_item in range(labels.size(0)):\n",
        "            if labels[batch_item].cpu().numpy() == 0:\n",
        "                one_hot[batch_item] = torch.tensor([1, 1, 0])\n",
        "            if labels[batch_item].cpu().numpy() == 1:\n",
        "                one_hot[batch_item] = torch.tensor([0, 1, 0])\n",
        "            if labels[batch_item].cpu().numpy() == 2:\n",
        "                one_hot[batch_item] = torch.tensor([0, 0, 1])\n",
        "\n",
        "        inputs, labels, one_hot = Variable(inputs.to(device)), Variable(labels.to(device)), Variable(one_hot.to(device))\n",
        "\n",
        "        output = resnet18(inputs)\n",
        "        one_hot = one_hot.float()\n",
        "        loss = criterion(output, one_hot)\n",
        "        vali_runing += loss.item()\n",
        "        output = torch.sigmoid(output)\n",
        "        pred = torch.as_tensor((output - 0.5) > 0, dtype=torch.int32)\n",
        "        total += labels.size(0)\n",
        "        for batch_item in range(labels.size(0)):\n",
        "            if np.array_equal(pred[batch_item].cpu().numpy(), one_hot[batch_item].cpu().numpy()):\n",
        "                correct += 1\n",
        "\n",
        "    vali_loss.append(vali_runing)\n",
        "    vali_acc.append(100 * correct / total)\n",
        "    print(f'Validation Loss: {vali_runing} Validation Accuracy {(100 * correct / total)}')\n",
        "    torch.save(resnet18.state_dict(), '/content/resnet18_focal_loss.pth')\n",
        "\n",
        "print('Finished Training')"
      ],
      "execution_count": 22,
      "outputs": [
        {
          "output_type": "stream",
          "text": [
            "0it [00:00, ?it/s]/usr/local/lib/python3.6/dist-packages/torch/nn/_reduction.py:43: UserWarning: size_average and reduce args will be deprecated, please use reduction='none' instead.\n",
            "  warnings.warn(warning.format(ret))\n",
            "Train Epoch: 0 [3096/6200 (100%)]\tLoss: 0.056167: : 388it [03:09,  2.04it/s]\n"
          ],
          "name": "stderr"
        },
        {
          "output_type": "stream",
          "text": [
            "Training Loss: 42.511721804738045 Training Accuracy 69.33870967741936\n"
          ],
          "name": "stdout"
        },
        {
          "output_type": "stream",
          "text": [
            "\r0it [00:00, ?it/s]"
          ],
          "name": "stderr"
        },
        {
          "output_type": "stream",
          "text": [
            "Validation Loss: 3.2404354326426983 Validation Accuracy 81.36942675159236\n"
          ],
          "name": "stdout"
        },
        {
          "output_type": "stream",
          "text": [
            "Train Epoch: 1 [3096/6200 (100%)]\tLoss: 0.051675: : 388it [03:08,  2.06it/s]\n"
          ],
          "name": "stderr"
        },
        {
          "output_type": "stream",
          "text": [
            "Training Loss: 33.80578626319766 Training Accuracy 79.80645161290323\n"
          ],
          "name": "stdout"
        },
        {
          "output_type": "stream",
          "text": [
            "\r0it [00:00, ?it/s]"
          ],
          "name": "stderr"
        },
        {
          "output_type": "stream",
          "text": [
            "Validation Loss: 2.793141782283783 Validation Accuracy 84.55414012738854\n"
          ],
          "name": "stdout"
        },
        {
          "output_type": "stream",
          "text": [
            "Train Epoch: 2 [3096/6200 (100%)]\tLoss: 0.035070: : 388it [03:08,  2.06it/s]\n"
          ],
          "name": "stderr"
        },
        {
          "output_type": "stream",
          "text": [
            "Training Loss: 30.34750384092331 Training Accuracy 82.58064516129032\n"
          ],
          "name": "stdout"
        },
        {
          "output_type": "stream",
          "text": [
            "\r0it [00:00, ?it/s]"
          ],
          "name": "stderr"
        },
        {
          "output_type": "stream",
          "text": [
            "Validation Loss: 2.4917661491781473 Validation Accuracy 86.94267515923566\n"
          ],
          "name": "stdout"
        },
        {
          "output_type": "stream",
          "text": [
            "Train Epoch: 3 [3096/6200 (100%)]\tLoss: 0.039665: : 388it [03:18,  1.95it/s]\n"
          ],
          "name": "stderr"
        },
        {
          "output_type": "stream",
          "text": [
            "Training Loss: 29.256578957661986 Training Accuracy 84.41935483870968\n"
          ],
          "name": "stdout"
        },
        {
          "output_type": "stream",
          "text": [
            "\r0it [00:00, ?it/s]"
          ],
          "name": "stderr"
        },
        {
          "output_type": "stream",
          "text": [
            "Validation Loss: 2.4580050725489855 Validation Accuracy 86.14649681528662\n"
          ],
          "name": "stdout"
        },
        {
          "output_type": "stream",
          "text": [
            "Train Epoch: 4 [3096/6200 (100%)]\tLoss: 0.081366: : 388it [03:14,  2.00it/s]\n"
          ],
          "name": "stderr"
        },
        {
          "output_type": "stream",
          "text": [
            "Training Loss: 28.302089877426624 Training Accuracy 83.96774193548387\n"
          ],
          "name": "stdout"
        },
        {
          "output_type": "stream",
          "text": [
            "\r0it [00:00, ?it/s]"
          ],
          "name": "stderr"
        },
        {
          "output_type": "stream",
          "text": [
            "Validation Loss: 2.4091337621212006 Validation Accuracy 87.10191082802548\n"
          ],
          "name": "stdout"
        },
        {
          "output_type": "stream",
          "text": [
            "Train Epoch: 5 [3096/6200 (100%)]\tLoss: 0.087930: : 388it [03:13,  2.00it/s]\n"
          ],
          "name": "stderr"
        },
        {
          "output_type": "stream",
          "text": [
            "Training Loss: 27.13574375398457 Training Accuracy 85.1774193548387\n"
          ],
          "name": "stdout"
        },
        {
          "output_type": "stream",
          "text": [
            "\r0it [00:00, ?it/s]"
          ],
          "name": "stderr"
        },
        {
          "output_type": "stream",
          "text": [
            "Validation Loss: 2.3659000350162387 Validation Accuracy 87.89808917197452\n"
          ],
          "name": "stdout"
        },
        {
          "output_type": "stream",
          "text": [
            "Train Epoch: 6 [3096/6200 (100%)]\tLoss: 0.060502: : 388it [03:15,  1.98it/s]\n"
          ],
          "name": "stderr"
        },
        {
          "output_type": "stream",
          "text": [
            "Training Loss: 26.496406325139105 Training Accuracy 85.56451612903226\n"
          ],
          "name": "stdout"
        },
        {
          "output_type": "stream",
          "text": [
            "\r0it [00:00, ?it/s]"
          ],
          "name": "stderr"
        },
        {
          "output_type": "stream",
          "text": [
            "Validation Loss: 2.2931534089148045 Validation Accuracy 88.53503184713375\n"
          ],
          "name": "stdout"
        },
        {
          "output_type": "stream",
          "text": [
            "Train Epoch: 7 [3096/6200 (100%)]\tLoss: 0.065666: : 388it [03:15,  1.98it/s]\n"
          ],
          "name": "stderr"
        },
        {
          "output_type": "stream",
          "text": [
            "Training Loss: 25.999859218485653 Training Accuracy 85.46774193548387\n"
          ],
          "name": "stdout"
        },
        {
          "output_type": "stream",
          "text": [
            "\r0it [00:00, ?it/s]"
          ],
          "name": "stderr"
        },
        {
          "output_type": "stream",
          "text": [
            "Validation Loss: 2.1543134469538927 Validation Accuracy 88.53503184713375\n"
          ],
          "name": "stdout"
        },
        {
          "output_type": "stream",
          "text": [
            "Train Epoch: 8 [3096/6200 (100%)]\tLoss: 0.121795: : 388it [03:20,  1.93it/s]\n"
          ],
          "name": "stderr"
        },
        {
          "output_type": "stream",
          "text": [
            "Training Loss: 25.964367730543017 Training Accuracy 86.06451612903226\n"
          ],
          "name": "stdout"
        },
        {
          "output_type": "stream",
          "text": [
            "\r0it [00:00, ?it/s]"
          ],
          "name": "stderr"
        },
        {
          "output_type": "stream",
          "text": [
            "Validation Loss: 2.039679132401943 Validation Accuracy 89.3312101910828\n"
          ],
          "name": "stdout"
        },
        {
          "output_type": "stream",
          "text": [
            "Train Epoch: 9 [3096/6200 (100%)]\tLoss: 0.012869: : 388it [03:18,  1.95it/s]\n"
          ],
          "name": "stderr"
        },
        {
          "output_type": "stream",
          "text": [
            "Training Loss: 24.87841859087348 Training Accuracy 86.61290322580645\n",
            "Validation Loss: 1.983172968029976 Validation Accuracy 90.44585987261146\n",
            "Finished Training\n"
          ],
          "name": "stdout"
        }
      ]
    },
    {
      "cell_type": "code",
      "metadata": {
        "id": "mgrAIN309s-N",
        "colab_type": "code",
        "colab": {
          "base_uri": "https://localhost:8080/",
          "height": 295
        },
        "outputId": "1a2e9ee9-7c4b-4782-82df-a21aa76e5ce9"
      },
      "source": [
        "fig, ax = plt.subplots()\n",
        "ax.plot(train_loss, marker='o', linestyle='-', linewidth=2, markersize=12, label='Train Loss')\n",
        "plt.legend()\n",
        "ax.set_xlabel('Epochs')\n",
        "ax.set_ylabel('BCEWithLogitsLoss')\n",
        "ax.set_title('Train Loss')\n",
        "plt.show()"
      ],
      "execution_count": 23,
      "outputs": [
        {
          "output_type": "display_data",
          "data": {
            "image/png": "[encoded data removed]",
            "text/plain": [
              "<Figure size 432x288 with 1 Axes>"
            ]
          },
          "metadata": {
            "tags": [],
            "needs_background": "light"
          }
        }
      ]
    },
    {
      "cell_type": "code",
      "metadata": {
        "id": "tzmz7otk9ve5",
        "colab_type": "code",
        "colab": {
          "base_uri": "https://localhost:8080/",
          "height": 295
        },
        "outputId": "3172f780-3434-4225-f8a2-996868f1f27c"
      },
      "source": [
        "fig, ax = plt.subplots()\n",
        "ax.plot(vali_loss, marker='o', linestyle='-', linewidth=2, markersize=12, label='Validation Loss')\n",
        "plt.legend()\n",
        "ax.set_xlabel('Epochs')\n",
        "ax.set_ylabel('BCEWithLogitsLoss')\n",
        "ax.set_title('Validation Loss')\n",
        "plt.show()"
      ],
      "execution_count": 24,
      "outputs": [
        {
          "output_type": "display_data",
          "data": {
            "image/png": "[encoded data removed]",
            "text/plain": [
              "<Figure size 432x288 with 1 Axes>"
            ]
          },
          "metadata": {
            "tags": [],
            "needs_background": "light"
          }
        }
      ]
    },
    {
      "cell_type": "code",
      "metadata": {
        "id": "8U_c4hsY94oH",
        "colab_type": "code",
        "colab": {
          "base_uri": "https://localhost:8080/",
          "height": 295
        },
        "outputId": "9ab0e9ad-4bac-4155-9aa3-886c39c67d7a"
      },
      "source": [
        "fig, ax = plt.subplots()\n",
        "ax.plot(train_acc, marker='o', linestyle='-', linewidth=2, markersize=12, label='Train Accuracy')\n",
        "plt.legend()\n",
        "ax.set_xlabel('Epochs')\n",
        "ax.set_ylabel('Accracy')\n",
        "ax.set_title('Train Accuracy')\n",
        "plt.show()"
      ],
      "execution_count": 25,
      "outputs": [
        {
          "output_type": "display_data",
          "data": {
            "image/png": "[encoded data removed]",
            "text/plain": [
              "<Figure size 432x288 with 1 Axes>"
            ]
          },
          "metadata": {
            "tags": [],
            "needs_background": "light"
          }
        }
      ]
    },
    {
      "cell_type": "code",
      "metadata": {
        "id": "v7_YBUWI98Ev",
        "colab_type": "code",
        "colab": {
          "base_uri": "https://localhost:8080/",
          "height": 295
        },
        "outputId": "4d8b5e3e-0037-45b6-e93e-e3370f27e251"
      },
      "source": [
        "fig, ax = plt.subplots()\n",
        "ax.plot(vali_acc, marker='o', linestyle='-', linewidth=2, markersize=12, label='Validation Accuracy')\n",
        "plt.legend()\n",
        "ax.set_xlabel('Epochs')\n",
        "ax.set_ylabel('Accracy')\n",
        "ax.set_title('Validation Accuracy')\n",
        "plt.show()"
      ],
      "execution_count": 26,
      "outputs": [
        {
          "output_type": "display_data",
          "data": {
            "image/png": "[encoded data removed]",
            "text/plain": [
              "<Figure size 432x288 with 1 Axes>"
            ]
          },
          "metadata": {
            "tags": [],
            "needs_background": "light"
          }
        }
      ]
    },
    {
      "cell_type": "code",
      "metadata": {
        "id": "FRszkhL59_Vd",
        "colab_type": "code",
        "colab": {
          "base_uri": "https://localhost:8080/",
          "height": 204
        },
        "outputId": "e6eaae69-a6e0-4e3a-9dbe-8788dd52d2f4"
      },
      "source": [
        "pred_vali = []\n",
        "labels_vali = []\n",
        "correct = 0\n",
        "total = 0\n",
        "with torch.no_grad():\n",
        "  for i, data in enumerate(valiloader, 0):\n",
        "    # get the inputs\n",
        "    inputs, labels = data\n",
        "    one_hot = torch.zeros(labels.size(0), 3)\n",
        "    for batch_item in range(labels.size(0)):\n",
        "        if labels[batch_item].cpu().numpy() == 0:\n",
        "            one_hot[batch_item] = torch.tensor([1, 1, 0])\n",
        "        if labels[batch_item].cpu().numpy() == 1:\n",
        "            one_hot[batch_item] = torch.tensor([0, 1, 0])\n",
        "        if labels[batch_item].cpu().numpy() == 2:\n",
        "            one_hot[batch_item] = torch.tensor([0, 0, 1])\n",
        "\n",
        "    inputs, labels, one_hot = Variable(inputs.to(device)), Variable(labels.to(device)), Variable(one_hot.to(device))\n",
        "\n",
        "    output = resnet18(inputs)\n",
        "    one_hot = one_hot.float()\n",
        "    output = torch.sigmoid(output)\n",
        "    pred = torch.as_tensor((output - 0.5) > 0, dtype=torch.int32)\n",
        "\n",
        "    pred_vali += list(pred.cpu().numpy())\n",
        "    labels_vali += list(one_hot.cpu().numpy())\n",
        "    total += labels.size(0)\n",
        "    for batch_item in range(labels.size(0)):\n",
        "        if np.array_equal(pred[batch_item].cpu().numpy(), one_hot[batch_item].cpu().numpy()):\n",
        "            correct += 1\n",
        "\n",
        "conf_matrix = multilabel_confusion_matrix(pred_vali, labels_vali)\n",
        "print(conf_matrix)\n",
        "print('\\n')\n",
        "print(f'Validation Accuracy {(100 * correct / total)}')"
      ],
      "execution_count": 27,
      "outputs": [
        {
          "output_type": "stream",
          "text": [
            "[[[598  19]\n",
            "  [  2   9]]\n",
            "\n",
            " [[167  17]\n",
            "  [ 33 411]]\n",
            "\n",
            " [[411  33]\n",
            "  [ 17 167]]]\n",
            "\n",
            "\n",
            "Validation Accuracy 88.85350318471338\n"
          ],
          "name": "stdout"
        }
      ]
    },
    {
      "cell_type": "code",
      "metadata": {
        "id": "nn9Bb3ck-IYk",
        "colab_type": "code",
        "colab": {
          "base_uri": "https://localhost:8080/",
          "height": 204
        },
        "outputId": "ac948111-4279-4d45-a16a-eda2edf7b860"
      },
      "source": [
        "pred_train = []\n",
        "labels_train = []\n",
        "correct = 0\n",
        "total = 0\n",
        "with torch.no_grad():\n",
        "  for i, data in enumerate(trainloader, 0):\n",
        "    # get the inputs\n",
        "    inputs, labels = data\n",
        "    one_hot = torch.zeros(labels.size(0), 3)\n",
        "    for batch_item in range(labels.size(0)):\n",
        "        if labels[batch_item].cpu().numpy() == 0:\n",
        "            one_hot[batch_item] = torch.tensor([1, 1, 0])\n",
        "        if labels[batch_item].cpu().numpy() == 1:\n",
        "            one_hot[batch_item] = torch.tensor([0, 1, 0])\n",
        "        if labels[batch_item].cpu().numpy() == 2:\n",
        "            one_hot[batch_item] = torch.tensor([0, 0, 1])\n",
        "\n",
        "    inputs, labels, one_hot = Variable(inputs.to(device)), Variable(labels.to(device)), Variable(one_hot.to(device))\n",
        "\n",
        "    output = resnet18(inputs)\n",
        "    one_hot = one_hot.float()\n",
        "    output = torch.sigmoid(output)\n",
        "    pred = torch.as_tensor((output - 0.5) > 0, dtype=torch.int32)\n",
        "\n",
        "    pred_train += list(pred.cpu().numpy())\n",
        "    labels_train += list(one_hot.cpu().numpy())\n",
        "    total += labels.size(0)\n",
        "    for batch_item in range(labels.size(0)):\n",
        "        if np.array_equal(pred[batch_item].cpu().numpy(), one_hot[batch_item].cpu().numpy()):\n",
        "            correct += 1\n",
        "\n",
        "conf_matrix = multilabel_confusion_matrix(pred_train, labels_train)\n",
        "print(conf_matrix)\n",
        "print('\\n')\n",
        "print(f'Training Accuracy {(100 * correct / total)}')"
      ],
      "execution_count": 28,
      "outputs": [
        {
          "output_type": "stream",
          "text": [
            "[[[5989  152]\n",
            "  [  11   48]]\n",
            "\n",
            " [[1554  212]\n",
            "  [ 446 3988]]\n",
            "\n",
            " [[3990  446]\n",
            "  [ 210 1554]]]\n",
            "\n",
            "\n",
            "Training Accuracy 87.03225806451613\n"
          ],
          "name": "stdout"
        }
      ]
    },
    {
      "cell_type": "code",
      "metadata": {
        "id": "eRZmgjch-PaB",
        "colab_type": "code",
        "colab": {}
      },
      "source": [
        "# Test CSV File\n",
        "f = open('resent18_focal_loss.csv', 'w')\n",
        "writer = csv.writer(f)\n",
        "for inputs, label, path in testloader:\n",
        "    # use the above variables freely\n",
        "    inputs = Variable(inputs.to(device))\n",
        "    output = vgg16(inputs)\n",
        "    output = torch.sigmoid(output)\n",
        "    pred = torch.as_tensor((output - 0.5) > 0, dtype=torch.int32)\n",
        "    input_row = []\n",
        "    input_row.append(str(list(path)[0]).split('/')[-1])\n",
        "    input_row.append(int(pred[0][0].cpu().numpy()))\n",
        "    input_row.append(int(pred[0][1].cpu().numpy()))\n",
        "    input_row.append(int(pred[0][2].cpu().numpy()))\n",
        "    writer.writerow(input_row)\n",
        "f.close()"
      ],
      "execution_count": 0,
      "outputs": []
    }
  ]
}